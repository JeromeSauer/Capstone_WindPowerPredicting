{
 "cells": [
  {
   "cell_type": "markdown",
   "metadata": {},
   "source": [
    "## Simple models by Jerome, 25 November 2021 ##\n",
    "\n",
    "---"
   ]
  },
  {
   "cell_type": "code",
   "execution_count": 68,
   "metadata": {},
   "outputs": [],
   "source": [
    "# load modules\n",
    "import sys\n",
    "sys.path.append(\"..\")\n",
    "import numpy as np\n",
    "import pandas as pd\n",
    "from sklearn.linear_model import LinearRegression as LR\n",
    "from sklearn.model_selection import train_test_split\n",
    "from sklearn.metrics import mean_squared_error, r2_score\n",
    "import seaborn as sns\n",
    "\n",
    "RSEED = 42\n",
    "\n",
    "%run mlflow_logging.ipynb"
   ]
  },
  {
   "cell_type": "markdown",
   "metadata": {},
   "source": [
    "### Read and manipulate data ###"
   ]
  },
  {
   "cell_type": "code",
   "execution_count": 69,
   "metadata": {},
   "outputs": [
    {
     "data": {
      "text/html": [
       "<div>\n",
       "<style scoped>\n",
       "    .dataframe tbody tr th:only-of-type {\n",
       "        vertical-align: middle;\n",
       "    }\n",
       "\n",
       "    .dataframe tbody tr th {\n",
       "        vertical-align: top;\n",
       "    }\n",
       "\n",
       "    .dataframe thead th {\n",
       "        text-align: right;\n",
       "    }\n",
       "</style>\n",
       "<table border=\"1\" class=\"dataframe\">\n",
       "  <thead>\n",
       "    <tr style=\"text-align: right;\">\n",
       "      <th></th>\n",
       "      <th>ZONEID</th>\n",
       "      <th>TIMESTAMP</th>\n",
       "      <th>TARGETVAR</th>\n",
       "      <th>U10</th>\n",
       "      <th>V10</th>\n",
       "      <th>U100</th>\n",
       "      <th>V100</th>\n",
       "      <th>HOUR</th>\n",
       "      <th>MONTH</th>\n",
       "      <th>WEEKDAY</th>\n",
       "      <th>IS_HOLIDAY</th>\n",
       "      <th>WS10</th>\n",
       "      <th>WS100</th>\n",
       "      <th>WD10</th>\n",
       "      <th>WD100</th>\n",
       "      <th>WD100CARD</th>\n",
       "      <th>WD10CARD</th>\n",
       "      <th>U100NORM</th>\n",
       "      <th>V100NORM</th>\n",
       "    </tr>\n",
       "  </thead>\n",
       "  <tbody>\n",
       "    <tr>\n",
       "      <th>0</th>\n",
       "      <td>1</td>\n",
       "      <td>2012-01-01 01:00:00</td>\n",
       "      <td>0.000000</td>\n",
       "      <td>2.124600</td>\n",
       "      <td>-2.681966</td>\n",
       "      <td>2.864280</td>\n",
       "      <td>-3.666076</td>\n",
       "      <td>1</td>\n",
       "      <td>1</td>\n",
       "      <td>6</td>\n",
       "      <td>1</td>\n",
       "      <td>3.421530</td>\n",
       "      <td>4.652334</td>\n",
       "      <td>321.614439</td>\n",
       "      <td>321.999735</td>\n",
       "      <td>NW</td>\n",
       "      <td>NW</td>\n",
       "      <td>0.615665</td>\n",
       "      <td>-0.788008</td>\n",
       "    </tr>\n",
       "    <tr>\n",
       "      <th>1</th>\n",
       "      <td>1</td>\n",
       "      <td>2012-01-01 02:00:00</td>\n",
       "      <td>0.054879</td>\n",
       "      <td>2.521695</td>\n",
       "      <td>-1.796960</td>\n",
       "      <td>3.344859</td>\n",
       "      <td>-2.464761</td>\n",
       "      <td>2</td>\n",
       "      <td>1</td>\n",
       "      <td>6</td>\n",
       "      <td>1</td>\n",
       "      <td>3.096451</td>\n",
       "      <td>4.154892</td>\n",
       "      <td>305.473680</td>\n",
       "      <td>306.385781</td>\n",
       "      <td>NW</td>\n",
       "      <td>NW</td>\n",
       "      <td>0.805041</td>\n",
       "      <td>-0.593219</td>\n",
       "    </tr>\n",
       "    <tr>\n",
       "      <th>2</th>\n",
       "      <td>1</td>\n",
       "      <td>2012-01-01 03:00:00</td>\n",
       "      <td>0.110234</td>\n",
       "      <td>2.672210</td>\n",
       "      <td>-0.822516</td>\n",
       "      <td>3.508448</td>\n",
       "      <td>-1.214093</td>\n",
       "      <td>3</td>\n",
       "      <td>1</td>\n",
       "      <td>6</td>\n",
       "      <td>1</td>\n",
       "      <td>2.795932</td>\n",
       "      <td>3.712577</td>\n",
       "      <td>287.108562</td>\n",
       "      <td>289.088098</td>\n",
       "      <td>WNW</td>\n",
       "      <td>WNW</td>\n",
       "      <td>0.945017</td>\n",
       "      <td>-0.327022</td>\n",
       "    </tr>\n",
       "    <tr>\n",
       "      <th>3</th>\n",
       "      <td>1</td>\n",
       "      <td>2012-01-01 04:00:00</td>\n",
       "      <td>0.165116</td>\n",
       "      <td>2.457504</td>\n",
       "      <td>-0.143642</td>\n",
       "      <td>3.215233</td>\n",
       "      <td>-0.355546</td>\n",
       "      <td>4</td>\n",
       "      <td>1</td>\n",
       "      <td>6</td>\n",
       "      <td>1</td>\n",
       "      <td>2.461699</td>\n",
       "      <td>3.234831</td>\n",
       "      <td>273.345160</td>\n",
       "      <td>276.310236</td>\n",
       "      <td>W</td>\n",
       "      <td>W</td>\n",
       "      <td>0.993941</td>\n",
       "      <td>-0.109912</td>\n",
       "    </tr>\n",
       "    <tr>\n",
       "      <th>4</th>\n",
       "      <td>1</td>\n",
       "      <td>2012-01-01 05:00:00</td>\n",
       "      <td>0.156940</td>\n",
       "      <td>2.245898</td>\n",
       "      <td>0.389576</td>\n",
       "      <td>2.957678</td>\n",
       "      <td>0.332701</td>\n",
       "      <td>5</td>\n",
       "      <td>1</td>\n",
       "      <td>6</td>\n",
       "      <td>1</td>\n",
       "      <td>2.279435</td>\n",
       "      <td>2.976332</td>\n",
       "      <td>260.159324</td>\n",
       "      <td>263.581938</td>\n",
       "      <td>W</td>\n",
       "      <td>W</td>\n",
       "      <td>0.993733</td>\n",
       "      <td>0.111782</td>\n",
       "    </tr>\n",
       "  </tbody>\n",
       "</table>\n",
       "</div>"
      ],
      "text/plain": [
       "   ZONEID           TIMESTAMP  TARGETVAR       U10       V10      U100  \\\n",
       "0       1 2012-01-01 01:00:00   0.000000  2.124600 -2.681966  2.864280   \n",
       "1       1 2012-01-01 02:00:00   0.054879  2.521695 -1.796960  3.344859   \n",
       "2       1 2012-01-01 03:00:00   0.110234  2.672210 -0.822516  3.508448   \n",
       "3       1 2012-01-01 04:00:00   0.165116  2.457504 -0.143642  3.215233   \n",
       "4       1 2012-01-01 05:00:00   0.156940  2.245898  0.389576  2.957678   \n",
       "\n",
       "       V100  HOUR  MONTH  WEEKDAY  IS_HOLIDAY      WS10     WS100        WD10  \\\n",
       "0 -3.666076     1      1        6           1  3.421530  4.652334  321.614439   \n",
       "1 -2.464761     2      1        6           1  3.096451  4.154892  305.473680   \n",
       "2 -1.214093     3      1        6           1  2.795932  3.712577  287.108562   \n",
       "3 -0.355546     4      1        6           1  2.461699  3.234831  273.345160   \n",
       "4  0.332701     5      1        6           1  2.279435  2.976332  260.159324   \n",
       "\n",
       "        WD100 WD100CARD WD10CARD  U100NORM  V100NORM  \n",
       "0  321.999735        NW       NW  0.615665 -0.788008  \n",
       "1  306.385781        NW       NW  0.805041 -0.593219  \n",
       "2  289.088098       WNW      WNW  0.945017 -0.327022  \n",
       "3  276.310236         W        W  0.993941 -0.109912  \n",
       "4  263.581938         W        W  0.993733  0.111782  "
      ]
     },
     "execution_count": 69,
     "metadata": {},
     "output_type": "execute_result"
    }
   ],
   "source": [
    "# read data\n",
    "data = pd.read_csv('../data/GEFCom2014Data/Wind/raw_data_incl_features.csv', parse_dates=['TIMESTAMP'])\n",
    "data.head()"
   ]
  },
  {
   "cell_type": "code",
   "execution_count": 70,
   "metadata": {},
   "outputs": [
    {
     "name": "stdout",
     "output_type": "stream",
     "text": [
      "<class 'pandas.core.frame.DataFrame'>\n",
      "Int64Index: 175265 entries, 0 to 175433\n",
      "Data columns (total 19 columns):\n",
      " #   Column      Non-Null Count   Dtype         \n",
      "---  ------      --------------   -----         \n",
      " 0   ZONEID      175265 non-null  int64         \n",
      " 1   TIMESTAMP   175265 non-null  datetime64[ns]\n",
      " 2   TARGETVAR   175265 non-null  float64       \n",
      " 3   U10         175265 non-null  float64       \n",
      " 4   V10         175265 non-null  float64       \n",
      " 5   U100        175265 non-null  float64       \n",
      " 6   V100        175265 non-null  float64       \n",
      " 7   HOUR        175265 non-null  int64         \n",
      " 8   MONTH       175265 non-null  int64         \n",
      " 9   WEEKDAY     175265 non-null  int64         \n",
      " 10  IS_HOLIDAY  175265 non-null  int64         \n",
      " 11  WS10        175265 non-null  float64       \n",
      " 12  WS100       175265 non-null  float64       \n",
      " 13  WD10        175265 non-null  float64       \n",
      " 14  WD100       175265 non-null  float64       \n",
      " 15  WD100CARD   175265 non-null  object        \n",
      " 16  WD10CARD    175265 non-null  object        \n",
      " 17  U100NORM    175265 non-null  float64       \n",
      " 18  V100NORM    175265 non-null  float64       \n",
      "dtypes: datetime64[ns](1), float64(11), int64(5), object(2)\n",
      "memory usage: 26.7+ MB\n"
     ]
    }
   ],
   "source": [
    "# remove NaNs\n",
    "data.dropna(inplace=True)\n",
    "#data.fillna(np.nanmean(data.TARGETVAR),inplace=True)\n",
    "data.info()"
   ]
  },
  {
   "cell_type": "markdown",
   "metadata": {},
   "source": [
    "### Train-test-split ###"
   ]
  },
  {
   "cell_type": "code",
   "execution_count": 71,
   "metadata": {},
   "outputs": [],
   "source": [
    "# train-test-split\n",
    "data_train, data_test = train_test_split(data, test_size=0.25, random_state=RSEED)\n",
    "#data_train = data_train[~((data_train.TARGETVAR == 0) & (data_train.WS100 >= 4))]"
   ]
  },
  {
   "cell_type": "markdown",
   "metadata": {},
   "source": [
    "### Baseline model and load its results to MLFlow ###"
   ]
  },
  {
   "cell_type": "markdown",
   "metadata": {},
   "source": [
    "The baseline model everytime predicts the average electricity production of the train data."
   ]
  },
  {
   "cell_type": "code",
   "execution_count": 72,
   "metadata": {},
   "outputs": [
    {
     "name": "stdout",
     "output_type": "stream",
     "text": [
      "RMSE baseline model: 0.3108326090619405\n",
      "Standard deviation of TARGETVAR in data_train: 0.30983699669128106\n",
      "Mean of TARGETVAR in data_train: 0.3575744161948021\n"
     ]
    }
   ],
   "source": [
    "# baseline model, standard deviation and mean of TARGETVAR in train data\n",
    "y_pred_baseline = np.ones(len(data_test)) * np.mean(data_train.TARGETVAR)\n",
    "print(f'RMSE baseline model: {mean_squared_error(data_test.TARGETVAR, y_pred_baseline, squared=False)}')\n",
    "print(f'Standard deviation of TARGETVAR in data_train: {data_train.TARGETVAR.std()}')\n",
    "print(f'Mean of TARGETVAR in data_train: {data_train.TARGETVAR.mean()}')"
   ]
  },
  {
   "cell_type": "code",
   "execution_count": 73,
   "metadata": {},
   "outputs": [
    {
     "name": "stdout",
     "output_type": "stream",
     "text": [
      "Active run_id: e1aabd913d2b43d78a5c78a71d8faa3d\n",
      "Active run_id: 1094f8d586f54080a861f29ca7f13e7d\n",
      "Active run_id: e040afa1bcb44b63a35796706a86cc69\n",
      "Active run_id: dc3ebdf1485149e380d951c15a7319b5\n",
      "Active run_id: 5c2280c1a01c480fb8dbe015cb9e7b5a\n",
      "Active run_id: a958fe1db2b4413581742ad561a9cbcf\n",
      "Active run_id: b4a564d03aae4756bc5f1feda7da5a8e\n",
      "Active run_id: 5c9fba78f7ae4de5b759e32e493d01d5\n",
      "Active run_id: 4b8e48f0ae044c858edcfadfe0db7902\n",
      "Active run_id: 48624423603e4b749a49c125a15d8e23\n",
      "Active run_id: 0179008311354498967303550f949286\n"
     ]
    }
   ],
   "source": [
    "## baseline models for every zone and aggregated over all zones\n",
    "\n",
    "# zones to loop over\n",
    "zones = list(np.sort(data_train.ZONEID.unique())) \n",
    "\n",
    "# score of baseline models for different zones are saved in dictionary\n",
    "score_baseline = {}\n",
    "\n",
    "# baseline predictions of all sites will be merged into one DataFrame to calculate a global RMSE\n",
    "y_finalpred = pd.DataFrame() \n",
    "\n",
    "for zone in zones:\n",
    "\n",
    "    # get train and test data of individual zones\n",
    "    y_train = data_train[data_train.ZONEID == zone].TARGETVAR\n",
    "    y_test = data_test[data_test.ZONEID == zone].TARGETVAR\n",
    "\n",
    "    # baseline predicton for individual zone\n",
    "    y_pred = np.ones(len(y_test)) * np.mean(y_train)\n",
    "\n",
    "    # RMSE for current zone\n",
    "    score_baseline['ZONE' + str(zone)] = mean_squared_error(y_test, y_pred, squared=False)\n",
    "\n",
    "    # add y_pred to DataFrame y_finalpred\n",
    "    y_pred = pd.DataFrame(y_pred, index = y_test.index, columns = ['pred'])\n",
    "    y_finalpred = pd.concat([y_finalpred, y_pred], axis=0)\n",
    "\n",
    "# merge final baseline predictions with observations to ensure a right order in both data  \n",
    "y_finalpred = y_finalpred.join(data_test.TARGETVAR)\n",
    "y_finalpred.rename(columns = {'TARGETVAR':'test'}, inplace=True)\n",
    "\n",
    "# RMSE for whole dataset\n",
    "score_baseline['TOTAL'] = mean_squared_error(y_finalpred['test'], y_finalpred['pred'], squared=False)\n",
    "\n",
    "# track on MLFlow\n",
    "for key, value in score_baseline.items():\n",
    "    log_to_mlflow(ZONEID=key, Model='Baseline', features=None, train_RMSE=None, test_RMSE=value, \n",
    "                  nan_removed=True, zero_removed=False, mean=None, \n",
    "                  hyperparameter=None, model_parameters=None, info='Predict zone-dependent means of electricity production')"
   ]
  },
  {
   "cell_type": "markdown",
   "metadata": {},
   "source": [
    "### Linear regression model for data of all sites and data of different sites separately ###"
   ]
  },
  {
   "cell_type": "markdown",
   "metadata": {},
   "source": [
    "Define features."
   ]
  },
  {
   "cell_type": "code",
   "execution_count": 74,
   "metadata": {},
   "outputs": [
    {
     "data": {
      "text/plain": [
       "Index(['ZONEID', 'TIMESTAMP', 'TARGETVAR', 'U10', 'V10', 'U100', 'V100',\n",
       "       'HOUR', 'MONTH', 'WEEKDAY', 'IS_HOLIDAY', 'WS10', 'WS100', 'WD10',\n",
       "       'WD100', 'WD100CARD', 'WD10CARD', 'U100NORM', 'V100NORM'],\n",
       "      dtype='object')"
      ]
     },
     "execution_count": 74,
     "metadata": {},
     "output_type": "execute_result"
    }
   ],
   "source": [
    "data_train.columns"
   ]
  },
  {
   "cell_type": "code",
   "execution_count": 75,
   "metadata": {},
   "outputs": [],
   "source": [
    "# define features\n",
    "features = ['WS100'] # RMSE = 0.1831 if models is differently trained for different sites sites \n",
    "\n",
    "features = data_train.columns.to_list() # RMSE = 0.1759\n",
    "for var in ['ZONEID','TARGETVAR','TIMESTAMP','WD100CARD','WD10CARD']:\n",
    "    features.remove(var)"
   ]
  },
  {
   "cell_type": "markdown",
   "metadata": {},
   "source": [
    "Linear regression model for all sites together."
   ]
  },
  {
   "cell_type": "code",
   "execution_count": 76,
   "metadata": {},
   "outputs": [
    {
     "name": "stdout",
     "output_type": "stream",
     "text": [
      "RMSE train data: 0.19419942483439473\n",
      "RMSE test data: 0.1943233575191369\n"
     ]
    }
   ],
   "source": [
    "# model using data of all sites and the model's performance\n",
    "X_train = data_train[features]\n",
    "y_train = data_train.TARGETVAR\n",
    "X_test = data_test[features]\n",
    "y_test = data_test.TARGETVAR\n",
    "\n",
    "model = LR()\n",
    "model.fit(X_train, y_train)\n",
    "y_pred_train = model.predict(X_train)\n",
    "y_pred_train = [1 if value >= 1 else 0 if value <= 0 else value for value in y_pred_train]\n",
    "y_pred_test = model.predict(X_test)\n",
    "y_pred_test = [1 if value >= 1 else 0 if value <= 0 else value for value in y_pred_test]\n",
    "\n",
    "print(f'RMSE train data: {mean_squared_error(y_train, y_pred_train, squared=False)}')\n",
    "print(f'RMSE test data: {mean_squared_error(y_test, y_pred_test, squared=False)}')"
   ]
  },
  {
   "cell_type": "markdown",
   "metadata": {},
   "source": [
    "Linear regession model for the different sites."
   ]
  },
  {
   "cell_type": "code",
   "execution_count": 77,
   "metadata": {},
   "outputs": [],
   "source": [
    "zones = np.sort(data_train.ZONEID.unique()) "
   ]
  },
  {
   "cell_type": "code",
   "execution_count": 78,
   "metadata": {},
   "outputs": [
    {
     "name": "stdout",
     "output_type": "stream",
     "text": [
      "RMSE train/test data in zone1: 0.1841 0.1878\n",
      "RMSE train/test data in zone2: 0.1553 0.1579\n",
      "RMSE train/test data in zone3: 0.1592 0.1586\n",
      "RMSE train/test data in zone4: 0.1805 0.1847\n",
      "RMSE train/test data in zone5: 0.1837 0.1825\n",
      "RMSE train/test data in zone6: 0.1917 0.1986\n",
      "RMSE train/test data in zone7: 0.1423 0.1422\n",
      "RMSE train/test data in zone8: 0.1745 0.1682\n",
      "RMSE train/test data in zone9: 0.1654 0.166\n",
      "RMSE train/test data in zone10: 0.2085 0.2026\n",
      "\n",
      "RMSE test data with model train and predictions on all sites separately: 0.1759\n"
     ]
    }
   ],
   "source": [
    "# initialize DataFrame where predictions of various zones are saved\n",
    "y_finalpred = pd.DataFrame()\n",
    "\n",
    "for zone in zones:\n",
    "\n",
    "    # split train and test data in feature and TARGETVAR parts and cut data to desired zones\n",
    "    X_train = data_train[data_train.ZONEID == zone][features]\n",
    "    y_train = data_train[data_train.ZONEID == zone].TARGETVAR\n",
    "\n",
    "    X_test = data_test[data_test.ZONEID == zone][features]\n",
    "    y_test = data_test[data_test.ZONEID == zone].TARGETVAR\n",
    "\n",
    "    # initialize and train the model\n",
    "    model = LR()\n",
    "    model.fit(X_train, y_train)\n",
    "\n",
    "    # predict with the model\n",
    "    y_pred_train = model.predict(X_train)\n",
    "    y_pred_train = [1 if value >= 1 else 0 if value <= 0 else value for value in y_pred_train]\n",
    "\n",
    "    y_pred_test = model.predict(X_test)\n",
    "    y_pred_test = [1 if value >= 1 else 0 if value <= 0 else value for value in y_pred_test]\n",
    "    y_pred_test = pd.DataFrame(y_pred_test, index = y_test.index, columns = ['pred'])\n",
    "\n",
    "    # print model performance for individual sites\n",
    "    print('RMSE train/test data in zone{}: {} {}'.format(\\\n",
    "          zone,\n",
    "          round(mean_squared_error(y_train, y_pred_train, squared=False), 4),\n",
    "          round(mean_squared_error(y_test, y_pred_test, squared=False), 4)))\n",
    "\n",
    "    # concatenate predictions for the different sites\n",
    "    y_finalpred = pd.concat([y_finalpred, y_pred_test], axis=0)\n",
    "\n",
    "# merge final test predictions with observations to ensure a right order in both data  \n",
    "y_finalpred = y_finalpred.join(data_test.TARGETVAR)\n",
    "print('\\nRMSE test data with model train and predictions on all sites separately: {}'.format(\\\n",
    "       round(mean_squared_error(y_finalpred['pred'], y_finalpred['TARGETVAR'], squared = False),4)))"
   ]
  }
 ],
 "metadata": {
  "interpreter": {
   "hash": "875210fa66a5290b81f396499bd0e6b038dc84f0a3b2576f7da8e528ffbace34"
  },
  "kernelspec": {
   "display_name": "Python 3.9.4 64-bit ('.venv': venv)",
   "language": "python",
   "name": "python3"
  },
  "language_info": {
   "codemirror_mode": {
    "name": "ipython",
    "version": 3
   },
   "file_extension": ".py",
   "mimetype": "text/x-python",
   "name": "python",
   "nbconvert_exporter": "python",
   "pygments_lexer": "ipython3",
   "version": "3.9.4"
  },
  "orig_nbformat": 4
 },
 "nbformat": 4,
 "nbformat_minor": 2
}
