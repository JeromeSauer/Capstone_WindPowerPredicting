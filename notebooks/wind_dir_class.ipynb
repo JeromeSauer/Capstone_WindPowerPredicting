{
 "cells": [
  {
   "cell_type": "code",
   "execution_count": 4,
   "metadata": {},
   "outputs": [],
   "source": [
    "## load modules and run mlflow_logging.ipynb to get function to track model information on MLFLow\n",
    "import sys\n",
    "sys.path.append(\"..\")\n",
    "import numpy as np\n",
    "import pandas as pd\n",
    "from sklearn.model_selection import train_test_split\n",
    "from sklearn.metrics import mean_squared_error, r2_score\n",
    "from sklearn.svm import LinearSVR, SVR\n",
    "import seaborn as sns\n",
    "from sklearn.preprocessing import MinMaxScaler, StandardScaler\n",
    "from sklearn.model_selection import train_test_split\n",
    "from sklearn.metrics import mean_squared_error, r2_score\n",
    "from sklearn.neighbors import KNeighborsRegressor \n",
    "import seaborn as sns\n",
    "from sklearn.preprocessing import MinMaxScaler, StandardScaler\n",
    "from sklearn.preprocessing import MinMaxScaler, StandardScaler\n",
    "\n",
    "\n",
    "from sklearn.model_selection import GridSearchCV\n",
    "\n",
    "from modeling.functions import modelling, get_features \n"
   ]
  },
  {
   "cell_type": "code",
   "execution_count": 5,
   "metadata": {},
   "outputs": [
    {
     "name": "stdout",
     "output_type": "stream",
     "text": [
      "<class 'pandas.core.frame.DataFrame'>\n",
      "Int64Index: 175265 entries, 0 to 175433\n",
      "Data columns (total 19 columns):\n",
      " #   Column      Non-Null Count   Dtype         \n",
      "---  ------      --------------   -----         \n",
      " 0   ZONEID      175265 non-null  int64         \n",
      " 1   TIMESTAMP   175265 non-null  datetime64[ns]\n",
      " 2   TARGETVAR   175265 non-null  float64       \n",
      " 3   U10         175265 non-null  float64       \n",
      " 4   V10         175265 non-null  float64       \n",
      " 5   U100        175265 non-null  float64       \n",
      " 6   V100        175265 non-null  float64       \n",
      " 7   HOUR        175265 non-null  int64         \n",
      " 8   MONTH       175265 non-null  int64         \n",
      " 9   WEEKDAY     175265 non-null  int64         \n",
      " 10  IS_HOLIDAY  175265 non-null  int64         \n",
      " 11  WS10        175265 non-null  float64       \n",
      " 12  WS100       175265 non-null  float64       \n",
      " 13  WD10        175265 non-null  float64       \n",
      " 14  WD100       175265 non-null  float64       \n",
      " 15  WD100CARD   175265 non-null  object        \n",
      " 16  WD10CARD    175265 non-null  object        \n",
      " 17  U100NORM    175265 non-null  float64       \n",
      " 18  V100NORM    175265 non-null  float64       \n",
      "dtypes: datetime64[ns](1), float64(11), int64(5), object(2)\n",
      "memory usage: 26.7+ MB\n"
     ]
    }
   ],
   "source": [
    "data = pd.read_csv('../data/GEFCom2014Data/Wind/raw_data_incl_features.csv', parse_dates=['TIMESTAMP'])\n",
    "data.head()\n",
    "data.dropna(inplace=True)\n",
    "data.info()\n",
    "RSEED = 42"
   ]
  },
  {
   "cell_type": "code",
   "execution_count": 6,
   "metadata": {},
   "outputs": [
    {
     "data": {
      "text/html": [
       "<div>\n",
       "<style scoped>\n",
       "    .dataframe tbody tr th:only-of-type {\n",
       "        vertical-align: middle;\n",
       "    }\n",
       "\n",
       "    .dataframe tbody tr th {\n",
       "        vertical-align: top;\n",
       "    }\n",
       "\n",
       "    .dataframe thead th {\n",
       "        text-align: right;\n",
       "    }\n",
       "</style>\n",
       "<table border=\"1\" class=\"dataframe\">\n",
       "  <thead>\n",
       "    <tr style=\"text-align: right;\">\n",
       "      <th></th>\n",
       "      <th>ZONEID</th>\n",
       "      <th>TIMESTAMP</th>\n",
       "      <th>TARGETVAR</th>\n",
       "      <th>U10</th>\n",
       "      <th>V10</th>\n",
       "      <th>U100</th>\n",
       "      <th>V100</th>\n",
       "      <th>HOUR</th>\n",
       "      <th>MONTH</th>\n",
       "      <th>WEEKDAY</th>\n",
       "      <th>...</th>\n",
       "      <th>WD10CARD_NNW</th>\n",
       "      <th>WD10CARD_NW</th>\n",
       "      <th>WD10CARD_S</th>\n",
       "      <th>WD10CARD_SE</th>\n",
       "      <th>WD10CARD_SSE</th>\n",
       "      <th>WD10CARD_SSW</th>\n",
       "      <th>WD10CARD_SW</th>\n",
       "      <th>WD10CARD_W</th>\n",
       "      <th>WD10CARD_WNW</th>\n",
       "      <th>WD10CARD_WSW</th>\n",
       "    </tr>\n",
       "  </thead>\n",
       "  <tbody>\n",
       "    <tr>\n",
       "      <th>0</th>\n",
       "      <td>1</td>\n",
       "      <td>2012-01-01 01:00:00</td>\n",
       "      <td>0.000000</td>\n",
       "      <td>2.124600</td>\n",
       "      <td>-2.681966</td>\n",
       "      <td>2.864280</td>\n",
       "      <td>-3.666076</td>\n",
       "      <td>1</td>\n",
       "      <td>1</td>\n",
       "      <td>6</td>\n",
       "      <td>...</td>\n",
       "      <td>0</td>\n",
       "      <td>1</td>\n",
       "      <td>0</td>\n",
       "      <td>0</td>\n",
       "      <td>0</td>\n",
       "      <td>0</td>\n",
       "      <td>0</td>\n",
       "      <td>0</td>\n",
       "      <td>0</td>\n",
       "      <td>0</td>\n",
       "    </tr>\n",
       "    <tr>\n",
       "      <th>1</th>\n",
       "      <td>1</td>\n",
       "      <td>2012-01-01 02:00:00</td>\n",
       "      <td>0.054879</td>\n",
       "      <td>2.521695</td>\n",
       "      <td>-1.796960</td>\n",
       "      <td>3.344859</td>\n",
       "      <td>-2.464761</td>\n",
       "      <td>2</td>\n",
       "      <td>1</td>\n",
       "      <td>6</td>\n",
       "      <td>...</td>\n",
       "      <td>0</td>\n",
       "      <td>1</td>\n",
       "      <td>0</td>\n",
       "      <td>0</td>\n",
       "      <td>0</td>\n",
       "      <td>0</td>\n",
       "      <td>0</td>\n",
       "      <td>0</td>\n",
       "      <td>0</td>\n",
       "      <td>0</td>\n",
       "    </tr>\n",
       "    <tr>\n",
       "      <th>2</th>\n",
       "      <td>1</td>\n",
       "      <td>2012-01-01 03:00:00</td>\n",
       "      <td>0.110234</td>\n",
       "      <td>2.672210</td>\n",
       "      <td>-0.822516</td>\n",
       "      <td>3.508448</td>\n",
       "      <td>-1.214093</td>\n",
       "      <td>3</td>\n",
       "      <td>1</td>\n",
       "      <td>6</td>\n",
       "      <td>...</td>\n",
       "      <td>0</td>\n",
       "      <td>0</td>\n",
       "      <td>0</td>\n",
       "      <td>0</td>\n",
       "      <td>0</td>\n",
       "      <td>0</td>\n",
       "      <td>0</td>\n",
       "      <td>0</td>\n",
       "      <td>1</td>\n",
       "      <td>0</td>\n",
       "    </tr>\n",
       "    <tr>\n",
       "      <th>3</th>\n",
       "      <td>1</td>\n",
       "      <td>2012-01-01 04:00:00</td>\n",
       "      <td>0.165116</td>\n",
       "      <td>2.457504</td>\n",
       "      <td>-0.143642</td>\n",
       "      <td>3.215233</td>\n",
       "      <td>-0.355546</td>\n",
       "      <td>4</td>\n",
       "      <td>1</td>\n",
       "      <td>6</td>\n",
       "      <td>...</td>\n",
       "      <td>0</td>\n",
       "      <td>0</td>\n",
       "      <td>0</td>\n",
       "      <td>0</td>\n",
       "      <td>0</td>\n",
       "      <td>0</td>\n",
       "      <td>0</td>\n",
       "      <td>1</td>\n",
       "      <td>0</td>\n",
       "      <td>0</td>\n",
       "    </tr>\n",
       "    <tr>\n",
       "      <th>4</th>\n",
       "      <td>1</td>\n",
       "      <td>2012-01-01 05:00:00</td>\n",
       "      <td>0.156940</td>\n",
       "      <td>2.245898</td>\n",
       "      <td>0.389576</td>\n",
       "      <td>2.957678</td>\n",
       "      <td>0.332701</td>\n",
       "      <td>5</td>\n",
       "      <td>1</td>\n",
       "      <td>6</td>\n",
       "      <td>...</td>\n",
       "      <td>0</td>\n",
       "      <td>0</td>\n",
       "      <td>0</td>\n",
       "      <td>0</td>\n",
       "      <td>0</td>\n",
       "      <td>0</td>\n",
       "      <td>0</td>\n",
       "      <td>1</td>\n",
       "      <td>0</td>\n",
       "      <td>0</td>\n",
       "    </tr>\n",
       "  </tbody>\n",
       "</table>\n",
       "<p>5 rows × 49 columns</p>\n",
       "</div>"
      ],
      "text/plain": [
       "   ZONEID           TIMESTAMP  TARGETVAR       U10       V10      U100  \\\n",
       "0       1 2012-01-01 01:00:00   0.000000  2.124600 -2.681966  2.864280   \n",
       "1       1 2012-01-01 02:00:00   0.054879  2.521695 -1.796960  3.344859   \n",
       "2       1 2012-01-01 03:00:00   0.110234  2.672210 -0.822516  3.508448   \n",
       "3       1 2012-01-01 04:00:00   0.165116  2.457504 -0.143642  3.215233   \n",
       "4       1 2012-01-01 05:00:00   0.156940  2.245898  0.389576  2.957678   \n",
       "\n",
       "       V100  HOUR  MONTH  WEEKDAY  ...  WD10CARD_NNW  WD10CARD_NW  WD10CARD_S  \\\n",
       "0 -3.666076     1      1        6  ...             0            1           0   \n",
       "1 -2.464761     2      1        6  ...             0            1           0   \n",
       "2 -1.214093     3      1        6  ...             0            0           0   \n",
       "3 -0.355546     4      1        6  ...             0            0           0   \n",
       "4  0.332701     5      1        6  ...             0            0           0   \n",
       "\n",
       "   WD10CARD_SE  WD10CARD_SSE  WD10CARD_SSW  WD10CARD_SW  WD10CARD_W  \\\n",
       "0            0             0             0            0           0   \n",
       "1            0             0             0            0           0   \n",
       "2            0             0             0            0           0   \n",
       "3            0             0             0            0           1   \n",
       "4            0             0             0            0           1   \n",
       "\n",
       "   WD10CARD_WNW  WD10CARD_WSW  \n",
       "0             0             0  \n",
       "1             0             0  \n",
       "2             1             0  \n",
       "3             0             0  \n",
       "4             0             0  \n",
       "\n",
       "[5 rows x 49 columns]"
      ]
     },
     "execution_count": 6,
     "metadata": {},
     "output_type": "execute_result"
    }
   ],
   "source": [
    "data = pd.get_dummies(data, columns = ['WD100CARD','WD10CARD'])\n",
    "data.head()"
   ]
  },
  {
   "cell_type": "code",
   "execution_count": 7,
   "metadata": {},
   "outputs": [],
   "source": [
    "## train-test-split\n",
    "data_train, data_test = train_test_split(data, test_size=0.25, random_state=RSEED, stratify=data.ZONEID)\n",
    "# define features and feature dict\n",
    "feature_dict = get_features(data)\n",
    "\n",
    "features = feature_dict['all']"
   ]
  },
  {
   "cell_type": "code",
   "execution_count": 9,
   "metadata": {},
   "outputs": [],
   "source": [
    "# define zone\n",
    "zone = 1\n",
    "# split train and test data in feature and TARGETVAR parts and cut data to desired zones\n",
    "X_train = data_train[data_train.ZONEID == zone][features]\n",
    "y_train = data_train[data_train.ZONEID == zone].TARGETVAR\n",
    "\n",
    "X_test = data_test[data_test.ZONEID == zone][features]\n",
    "y_test = data_test[data_test.ZONEID == zone].TARGETVAR\n",
    "\n",
    "# Scale data\n",
    "scaler = StandardScaler()\n",
    "X_train = scaler.fit_transform(X_train)\n",
    "X_test = scaler.transform(X_test)"
   ]
  },
  {
   "cell_type": "code",
   "execution_count": 12,
   "metadata": {},
   "outputs": [
    {
     "name": "stdout",
     "output_type": "stream",
     "text": [
      "5 : train 0.15264726030869225 , test: 0.16490815811588078\n"
     ]
    }
   ],
   "source": [
    "model = SVR()\n",
    "for ii in range(5, 6):\n",
    "    model = SVR(kernel='poly', degree=ii, C=1, cache_size=100)\n",
    "    model.fit(X_train, y_train)\n",
    "    y_pred_train = model.predict(X_train)\n",
    "    y_pred_train = [1 if value >= 1 else 0 if value <= 0 else value for value in y_pred_train]\n",
    "    y_pred = model.predict(X_test)\n",
    "    y_pred = [1 if value >= 1 else 0 if value <= 0 else value for value in y_pred]\n",
    "    print(ii,': train',mean_squared_error(y_train, y_pred_train, squared=False),\n",
    "            ', test:', mean_squared_error(y_test, y_pred, squared=False))"
   ]
  },
  {
   "cell_type": "code",
   "execution_count": 15,
   "metadata": {},
   "outputs": [
    {
     "data": {
      "text/plain": [
       "0         321.999735\n",
       "1         306.385781\n",
       "2         289.088098\n",
       "3         276.310236\n",
       "4         263.581938\n",
       "             ...    \n",
       "175429     39.369070\n",
       "175430     29.647245\n",
       "175431     19.667057\n",
       "175432     12.686854\n",
       "175433      5.611802\n",
       "Name: WD100, Length: 175265, dtype: float64"
      ]
     },
     "execution_count": 15,
     "metadata": {},
     "output_type": "execute_result"
    }
   ],
   "source": [
    "data.WD100"
   ]
  },
  {
   "cell_type": "code",
   "execution_count": 43,
   "metadata": {},
   "outputs": [],
   "source": [
    "class WindDirection(int):\n",
    "    def __new__(cls, value, *args, **kwargs):\n",
    "        # if value < 0:\n",
    "        #     raise ValueError(\"WindDirection types must not be less than zero\")\n",
    "        value = (value+360)%360\n",
    "        return  super(cls, cls).__new__(cls, value)\n",
    "\n",
    "    def __add__(self, other):\n",
    "        res = super(WindDirection, self).__add__(other)\n",
    "        res = (res+360)%360\n",
    "        return self.__class__(max(res, 0))\n",
    "\n",
    "    def __sub__(self, other):\n",
    "        res = super(WindDirection, self).__sub__(other)\n",
    "        res = (res+360)%360\n",
    "        return self.__class__(max(res, 0))\n",
    "\n",
    "    def __mul__(self, other):\n",
    "        res = super(WindDirection, self).__mul__(other)\n",
    "        res = (res+360)%360\n",
    "        return self.__class__(max(res, 0))\n",
    "\n",
    "    def __div__(self, other):\n",
    "        res = super(WindDirection, self).__div__(other)\n",
    "        res = (res+360)%360\n",
    "        return self.__class__(max(res, 0))\n",
    "\n",
    "    def __str__(self):\n",
    "        return \"%d\" % int(self)\n",
    "\n",
    "    def __repr__(self):\n",
    "        return str(int(self))\n",
    "        # return \"WindDirection(%d)\" % int(self)"
   ]
  },
  {
   "cell_type": "code",
   "execution_count": 68,
   "metadata": {},
   "outputs": [],
   "source": [
    "class WD_NP(np.int64):\n",
    "    def __new__(cls, value, *args, **kwargs):\n",
    "        return  super(cls, cls).__new__(cls, value)\n",
    "\n",
    "    def __add__(self, other):\n",
    "        res = super(WindDirection, self).__add__(other)\n",
    "        res = (res+360)%360\n",
    "        return self.__class__(res)"
   ]
  },
  {
   "cell_type": "code",
   "execution_count": 69,
   "metadata": {},
   "outputs": [
    {
     "data": {
      "text/plain": [
       "3"
      ]
     },
     "execution_count": 69,
     "metadata": {},
     "output_type": "execute_result"
    }
   ],
   "source": [
    "a = WD_NP(3)\n",
    "a"
   ]
  },
  {
   "cell_type": "code",
   "execution_count": 70,
   "metadata": {},
   "outputs": [
    {
     "data": {
      "text/plain": [
       "__main__.WD_NP"
      ]
     },
     "execution_count": 70,
     "metadata": {},
     "output_type": "execute_result"
    }
   ],
   "source": [
    "type(a)"
   ]
  },
  {
   "cell_type": "code",
   "execution_count": 71,
   "metadata": {},
   "outputs": [],
   "source": [
    "a = WindDirection(130)\n",
    "b = WindDirection(3)"
   ]
  },
  {
   "cell_type": "code",
   "execution_count": 72,
   "metadata": {},
   "outputs": [
    {
     "data": {
      "text/plain": [
       "30"
      ]
     },
     "execution_count": 72,
     "metadata": {},
     "output_type": "execute_result"
    }
   ],
   "source": [
    "a*3"
   ]
  },
  {
   "cell_type": "code",
   "execution_count": 73,
   "metadata": {},
   "outputs": [],
   "source": [
    "data['WindDir'] = data.WD100.apply(lambda x : WD_NP(x))"
   ]
  },
  {
   "cell_type": "code",
   "execution_count": 74,
   "metadata": {},
   "outputs": [
    {
     "data": {
      "text/plain": [
       "numpy.int64"
      ]
     },
     "execution_count": 74,
     "metadata": {},
     "output_type": "execute_result"
    }
   ],
   "source": [
    "type(data['WindDir'].iloc[1])"
   ]
  },
  {
   "cell_type": "code",
   "execution_count": 75,
   "metadata": {},
   "outputs": [
    {
     "data": {
      "text/plain": [
       "0         963\n",
       "1         918\n",
       "2         867\n",
       "3         828\n",
       "4         789\n",
       "         ... \n",
       "175429    117\n",
       "175430     87\n",
       "175431     57\n",
       "175432     36\n",
       "175433     15\n",
       "Name: WindDir, Length: 175265, dtype: int64"
      ]
     },
     "execution_count": 75,
     "metadata": {},
     "output_type": "execute_result"
    }
   ],
   "source": [
    "data['WindDir'].apply(lambda x : 3*x)"
   ]
  },
  {
   "cell_type": "code",
   "execution_count": null,
   "metadata": {},
   "outputs": [],
   "source": []
  }
 ],
 "metadata": {
  "interpreter": {
   "hash": "522e8f0d47a4e167c0f7368316cd17a203d69aec8bf559f719e87eb34d4265e5"
  },
  "kernelspec": {
   "display_name": "Python 3.9.4 64-bit ('.venv': venv)",
   "name": "python3"
  },
  "language_info": {
   "codemirror_mode": {
    "name": "ipython",
    "version": 3
   },
   "file_extension": ".py",
   "mimetype": "text/x-python",
   "name": "python",
   "nbconvert_exporter": "python",
   "pygments_lexer": "ipython3",
   "version": "3.9.4"
  },
  "orig_nbformat": 4
 },
 "nbformat": 4,
 "nbformat_minor": 2
}
