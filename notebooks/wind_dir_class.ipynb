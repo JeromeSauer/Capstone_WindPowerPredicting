{
 "cells": [
  {
   "cell_type": "code",
   "execution_count": 1,
   "source": [
    "## load modules and run mlflow_logging.ipynb to get function to track model information on MLFLow\n",
    "import sys\n",
    "sys.path.append(\"..\")\n",
    "import numpy as np\n",
    "import pandas as pd\n",
    "from sklearn.model_selection import train_test_split\n",
    "from sklearn.metrics import mean_squared_error, r2_score\n",
    "from sklearn.svm import LinearSVR, SVR\n",
    "import seaborn as sns\n",
    "from sklearn.preprocessing import MinMaxScaler, StandardScaler\n"
   ],
   "outputs": [
    {
     "output_type": "stream",
     "name": "stderr",
     "text": [
      "/Users/fklein/neuefische/capstone/Capstone_WindPowerPredicting/.venv/lib/python3.9/site-packages/pandas/compat/__init__.py:124: UserWarning: Could not import the lzma module. Your installed Python is incomplete. Attempting to use lzma compression will result in a RuntimeError.\n",
      "  warnings.warn(msg)\n"
     ]
    }
   ],
   "metadata": {}
  },
  {
   "cell_type": "code",
   "execution_count": 2,
   "source": [
    "class Yint(int):\n",
    "    def __new__(cls, value, payload):\n",
    "        x = int.__new__(cls, value)\n",
    "        x.payload = payload\n",
    "        return x\n",
    " \n",
    "# This applies for float and str, but not bool\n",
    " \n",
    "# bool is derived from int, but can't be subclassed itself\n",
    "class Ybool(int):\n",
    "    def __new__(cls, value, payload):\n",
    "        x = int.__new__(cls, bool(value))\n",
    "        x.payload = payload\n",
    "        return x"
   ],
   "outputs": [],
   "metadata": {}
  },
  {
   "cell_type": "code",
   "execution_count": 34,
   "source": [
    "class positive(int):\n",
    "    def __new__(cls, value, *args, **kwargs):\n",
    "        # if value < 0:\n",
    "        #     raise ValueError(\"positive types must not be less than zero\")\n",
    "        return  super(cls, cls).__new__(cls, value)\n",
    "\n",
    "    def __add__(self, other):\n",
    "        res = super(positive, self).__add__(other)\n",
    "        return self.__class__(max(res, 0))\n",
    "\n",
    "    def __sub__(self, other):\n",
    "        res = super(positive, self).__sub__(other)\n",
    "        res = (res+360)%360\n",
    "        return self.__class__(max(res, 0))\n",
    "\n",
    "    def __mul__(self, other):\n",
    "        res = super(positive, self).__mul__(other)\n",
    "        return self.__class__(max(res, 0))\n",
    "\n",
    "    def __div__(self, other):\n",
    "        res = super(positive, self).__div__(other)\n",
    "        return self.__class__(max(res, 0))\n",
    "\n",
    "    def __str__(self):\n",
    "        return \"%d\" % int(self)\n",
    "\n",
    "    def __repr__(self):\n",
    "        return \"positive(%d)\" % int(self)\n",
    "\n"
   ],
   "outputs": [],
   "metadata": {}
  },
  {
   "cell_type": "code",
   "execution_count": 35,
   "source": [
    "a = positive(3)\n",
    "b = positive(-5)"
   ],
   "outputs": [],
   "metadata": {}
  },
  {
   "cell_type": "code",
   "execution_count": 36,
   "source": [
    "b"
   ],
   "outputs": [
    {
     "output_type": "execute_result",
     "data": {
      "text/plain": [
       "positive(-5)"
      ]
     },
     "metadata": {},
     "execution_count": 36
    }
   ],
   "metadata": {}
  },
  {
   "cell_type": "code",
   "execution_count": 38,
   "source": [
    "a-b"
   ],
   "outputs": [
    {
     "output_type": "execute_result",
     "data": {
      "text/plain": [
       "positive(8)"
      ]
     },
     "metadata": {},
     "execution_count": 38
    }
   ],
   "metadata": {}
  },
  {
   "cell_type": "code",
   "execution_count": null,
   "source": [],
   "outputs": [],
   "metadata": {}
  },
  {
   "cell_type": "code",
   "execution_count": null,
   "source": [],
   "outputs": [],
   "metadata": {}
  }
 ],
 "metadata": {
  "orig_nbformat": 4,
  "language_info": {
   "name": "python",
   "version": "3.9.4",
   "mimetype": "text/x-python",
   "codemirror_mode": {
    "name": "ipython",
    "version": 3
   },
   "pygments_lexer": "ipython3",
   "nbconvert_exporter": "python",
   "file_extension": ".py"
  },
  "kernelspec": {
   "name": "python3",
   "display_name": "Python 3.9.4 64-bit ('.venv': venv)"
  },
  "interpreter": {
   "hash": "6bf04853d3fd90e38dceeec9809cf8d05177fbec35bd657075794b65848902e2"
  }
 },
 "nbformat": 4,
 "nbformat_minor": 2
}