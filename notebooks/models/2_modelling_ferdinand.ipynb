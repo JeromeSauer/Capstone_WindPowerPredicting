{
 "cells": [
  {
   "cell_type": "code",
   "execution_count": 22,
   "source": [
    "import pandas as pd\n",
    "import numpy as np\n",
    "from sklearn.linear_model import LinearRegression\n",
    "from sklearn.ensemble import RandomForestRegressor\n",
    "import matplotlib.pyplot as plt\n",
    "from sklearn.model_selection import train_test_split\n",
    "from sklearn.metrics import mean_squared_error\n",
    "from sklearn.ensemble import ExtraTreesRegressor"
   ],
   "outputs": [],
   "metadata": {}
  },
  {
   "cell_type": "code",
   "execution_count": 23,
   "source": [
    "data_all = pd.read_csv('../data/GEFCom2014Data/Wind/raw_data_incl_features.csv', date_parser='TIMESTAMP')"
   ],
   "outputs": [],
   "metadata": {}
  },
  {
   "cell_type": "code",
   "execution_count": 24,
   "source": [
    "#data_all.dropna(inplace=True, axis=0)\n",
    "data_all.fillna(0, inplace=True)\n",
    "#data_all.info()\n",
    "data_all_dummies = pd.get_dummies(data_all,columns=['WD100CARD', 'WD10CARD'], drop_first=True)\n",
    "zone1 = data_all_dummies[data_all_dummies['ZONEID']==1]"
   ],
   "outputs": [],
   "metadata": {}
  },
  {
   "cell_type": "code",
   "execution_count": 25,
   "source": [
    "features = data_all_dummies.columns\n",
    "features\n",
    "features_remove = [ 'ZONEID', 'TIMESTAMP', 'TARGETVAR', 'U10', 'V10', 'U100', 'V100', \n",
    "                    'WD10', 'WD100', 'U100NORM', 'V100NORM']\n",
    "features = [ff for ff in features if ff not in features_remove]"
   ],
   "outputs": [],
   "metadata": {}
  },
  {
   "cell_type": "code",
   "execution_count": 26,
   "source": [
    "y = zone1['TARGETVAR']\n",
    "X = zone1[features]\n",
    "X_train, X_test, y_train, y_test = train_test_split(X, y, random_state=42, test_size=0.25)"
   ],
   "outputs": [],
   "metadata": {}
  },
  {
   "cell_type": "code",
   "execution_count": 27,
   "source": [
    "def fit_predict(reg, X_train, X_test, y_train, y_test):\n",
    "    reg.fit(X_train, y_train)\n",
    "    y_pred_train = reg.predict(X_train)\n",
    "    y_pred_train = [0 if ff<0 else 1 if ff>1 else ff for ff in y_pred_train]\n",
    "    y_pred_test = reg.predict(X_test)\n",
    "    y_pred_test = [0 if ff<0 else 1 if ff>1 else ff for ff in y_pred_test]\n",
    "    rmse_train = mean_squared_error(y_train, y_pred_train, squared=False)\n",
    "    print(f'RMSE train: {rmse_train}')\n",
    "    rmse_test = mean_squared_error(y_test, y_pred_test, squared=False)\n",
    "    print(f'RMSE test: {rmse_test}')\n",
    "    return rmse_train, rmse_test\n",
    "\n",
    "def remove_windy_zeros(X_train, y_train):\n",
    "    z = pd.concat([X_train, y_train], axis=1)\n",
    "    z = z[~((z['TARGETVAR']==0) & (z['WS100']>=4))]\n",
    "    X_train = z[features]\n",
    "    y_train = z['TARGETVAR']\n",
    "    return X_train, y_train"
   ],
   "outputs": [],
   "metadata": {}
  },
  {
   "cell_type": "code",
   "execution_count": 28,
   "source": [
    "def get_train_test_split(data, features, random_state=42, test_size=0.25):\n",
    "    y = data['TARGETVAR']\n",
    "    X = data[features]\n",
    "    X_train, X_test, y_train, y_test = train_test_split(X, y, random_state=42, test_size=0.25)\n",
    "    return X_train, X_test, y_train, y_test"
   ],
   "outputs": [],
   "metadata": {}
  },
  {
   "cell_type": "code",
   "execution_count": 29,
   "source": [
    "reg_lr = LinearRegression()\n",
    "fit_predict(reg_lr, X_train, X_test, y_train, y_test)"
   ],
   "outputs": [
    {
     "output_type": "stream",
     "name": "stdout",
     "text": [
      "RMSE train: 0.18470434495625396\n",
      "RMSE test: 0.18083657845849982\n"
     ]
    },
    {
     "output_type": "execute_result",
     "data": {
      "text/plain": [
       "(0.18470434495625396, 0.18083657845849982)"
      ]
     },
     "metadata": {},
     "execution_count": 29
    }
   ],
   "metadata": {}
  },
  {
   "cell_type": "markdown",
   "source": [
    "## Day / Night"
   ],
   "metadata": {}
  },
  {
   "cell_type": "code",
   "execution_count": 30,
   "source": [
    "data_all_dummies['DAYNIGHT'] = data_all_dummies['HOUR'].apply(lambda x : 0 if x<8 else 0 if x>19 else 1)"
   ],
   "outputs": [],
   "metadata": {}
  },
  {
   "cell_type": "code",
   "execution_count": 31,
   "source": [
    "features = data_all_dummies.columns\n",
    "features\n",
    "features_remove = [ 'ZONEID', 'TIMESTAMP', 'TARGETVAR', 'U10', 'V10', 'U100', 'V100', \n",
    "                    'WD10', 'WD100', 'U100NORM', 'V100NORM', 'HOUR']\n",
    "features = [ff for ff in features if ff not in features_remove]"
   ],
   "outputs": [],
   "metadata": {}
  },
  {
   "cell_type": "code",
   "execution_count": 32,
   "source": [
    "#X_train, y_train = remove_windy_zeros(X_train, y_train)\n",
    "reg = LinearRegression()\n",
    "fit_predict(reg, X_train, X_test, y_train, y_test)"
   ],
   "outputs": [
    {
     "output_type": "stream",
     "name": "stdout",
     "text": [
      "RMSE train: 0.18470434495625396\n",
      "RMSE test: 0.18083657845849982\n"
     ]
    },
    {
     "output_type": "execute_result",
     "data": {
      "text/plain": [
       "(0.18470434495625396, 0.18083657845849982)"
      ]
     },
     "metadata": {},
     "execution_count": 32
    }
   ],
   "metadata": {}
  },
  {
   "cell_type": "code",
   "execution_count": 33,
   "source": [
    "# linear model, without hours, but with day/night\n",
    "rmse_all_train, rmse_all_test = 0,0\n",
    "count = 0\n",
    "test_size = 0.25\n",
    "for idx in range(1,11):\n",
    "    zone = data_all_dummies[data_all_dummies['ZONEID']==idx]\n",
    "    X_train, X_test, y_train, y_test = get_train_test_split(zone, features, test_size)\n",
    "    #X_train, y_train = remove_windy_zeros(X_train, y_train)\n",
    "    reg = LinearRegression()\n",
    "    print('Zone ',idx)\n",
    "    rmse_train, rmse_test = fit_predict(reg, X_train, X_test, y_train, y_test)\n",
    "    rmse_all_train += rmse_train*len(y_train)\n",
    "    rmse_all_test += rmse_test*len(y_test)\n",
    "\n",
    "rmse_all_train /= data_all_dummies.shape[0]*(1-test_size)\n",
    "rmse_all_test /= data_all_dummies.shape[0]*test_size\n",
    "print('rmse_all_train',rmse_all_train)\n",
    "print('rmse_all_test', rmse_all_test)"
   ],
   "outputs": [
    {
     "output_type": "stream",
     "name": "stdout",
     "text": [
      "Zone  1\n",
      "RMSE train: 0.18514396788274817\n",
      "RMSE test: 0.1812698344905208\n",
      "Zone  2\n",
      "RMSE train: 0.15647048081492076\n",
      "RMSE test: 0.15309229455174744\n",
      "Zone  3\n",
      "RMSE train: 0.15454437194297424\n",
      "RMSE test: 0.1558680198521382\n",
      "Zone  4\n",
      "RMSE train: 0.17707019364885718\n",
      "RMSE test: 0.18552130087587593\n",
      "Zone  5\n",
      "RMSE train: 0.1838313374859388\n",
      "RMSE test: 0.186358656272047\n",
      "Zone  6\n",
      "RMSE train: 0.19098991292105771\n",
      "RMSE test: 0.192383322262734\n",
      "Zone  7\n",
      "RMSE train: 0.14178523086357306\n",
      "RMSE test: 0.14017645966860248\n",
      "Zone  8\n",
      "RMSE train: 0.17370232284095863\n",
      "RMSE test: 0.16696160981799527\n",
      "Zone  9\n",
      "RMSE train: 0.16703701275060442\n",
      "RMSE test: 0.16300918328112998\n",
      "Zone  10\n",
      "RMSE train: 0.20629486024239366\n",
      "RMSE test: 0.2016621883662275\n",
      "rmse_all_train 0.17368696913940268\n",
      "rmse_all_test 0.17263028694390187\n"
     ]
    }
   ],
   "metadata": {}
  },
  {
   "cell_type": "code",
   "execution_count": 34,
   "source": [
    "## random forest\n",
    "rmse_all_train, rmse_all_test = 0,0\n",
    "count = 0\n",
    "test_size = 0.25\n",
    "for idx in range(1,11):\n",
    "    zone = data_all_dummies[data_all_dummies['ZONEID']==idx]\n",
    "    X_train, X_test, y_train, y_test = get_train_test_split(zone, features, test_size)\n",
    "    X_train, y_train = remove_windy_zeros(X_train, y_train)\n",
    "    reg = ExtraTreesRegressor( \n",
    "        n_estimators=20,\n",
    "        n_jobs=-1, \n",
    "        max_depth=15\n",
    "    )\n",
    "    print('Zone ',idx)\n",
    "    rmse_train, rmse_test = fit_predict(reg, X_train, X_test, y_train, y_test)\n",
    "    rmse_all_train += rmse_train*len(y_train)\n",
    "    rmse_all_test += rmse_test*len(y_test)\n",
    "\n",
    "rmse_all_train /= data_all_dummies.shape[0]*(1-test_size)\n",
    "rmse_all_test /= data_all_dummies.shape[0]*test_size\n",
    "print('rmse_all_train',rmse_all_train)\n",
    "print('rmse_all_test', rmse_all_test)"
   ],
   "outputs": [
    {
     "output_type": "stream",
     "name": "stdout",
     "text": [
      "Zone  1\n",
      "RMSE train: 0.10689273154652121\n",
      "RMSE test: 0.15836206278332407\n",
      "Zone  2\n",
      "RMSE train: 0.08216707458980613\n",
      "RMSE test: 0.13370049013245477\n",
      "Zone  3\n",
      "RMSE train: 0.09795436214610449\n",
      "RMSE test: 0.14305428910200627\n",
      "Zone  4\n",
      "RMSE train: 0.11356476438600815\n",
      "RMSE test: 0.1711264948307706\n",
      "Zone  5\n",
      "RMSE train: 0.11032909722357144\n",
      "RMSE test: 0.16758118989106363\n",
      "Zone  6\n",
      "RMSE train: 0.11703740615774477\n",
      "RMSE test: 0.17339798329158504\n",
      "Zone  7\n",
      "RMSE train: 0.07856419186792533\n",
      "RMSE test: 0.1228511223235335\n",
      "Zone  8\n",
      "RMSE train: 0.08623720751072099\n",
      "RMSE test: 0.15025479494794527\n",
      "Zone  9\n",
      "RMSE train: 0.08874049524254987\n",
      "RMSE test: 0.14946469047490576\n",
      "Zone  10\n",
      "RMSE train: 0.12844269403092423\n",
      "RMSE test: 0.18504286861081715\n",
      "rmse_all_train 0.09869536267578019\n",
      "rmse_all_test 0.15548359863884062\n"
     ]
    }
   ],
   "metadata": {}
  },
  {
   "cell_type": "code",
   "execution_count": 49,
   "source": [
    "# neural networks\n",
    "from sklearn.neural_network import MLPRegressor\n",
    "regr = MLPRegressor(random_state=1, max_iter=5000, learning_rate_init=0.001, \n",
    "learning_rate='adaptive', tol=0.0001)\n",
    "\n",
    "rmse_all_train, rmse_all_test = 0,0\n",
    "count = 0\n",
    "test_size = 0.25\n",
    "for idx in range(1,2):\n",
    "    zone = data_all_dummies[data_all_dummies['ZONEID']==idx]\n",
    "    X_train, X_test, y_train, y_test = get_train_test_split(zone, features, test_size)\n",
    "    X_train, y_train = remove_windy_zeros(X_train, y_train)\n",
    "    print('Zone ',idx)\n",
    "    rmse_train, rmse_test = fit_predict(regr, X_train, X_test, y_train, y_test)\n",
    "    rmse_all_train += rmse_train*len(y_train)\n",
    "    rmse_all_test += rmse_test*len(y_test)\n",
    "\n",
    "rmse_all_train /= data_all_dummies.shape[0]*(1-test_size)\n",
    "rmse_all_test /= data_all_dummies.shape[0]*test_size\n",
    "print('rmse_all_train',rmse_all_train)\n",
    "print('rmse_all_test', rmse_all_test)"
   ],
   "outputs": [
    {
     "output_type": "stream",
     "name": "stdout",
     "text": [
      "Zone  1\n",
      "RMSE train: 0.15539718231905505\n",
      "RMSE test: 0.1641129237186552\n",
      "rmse_all_train 0.0150555044855093\n",
      "rmse_all_test 0.016411292371865522\n"
     ]
    }
   ],
   "metadata": {}
  },
  {
   "cell_type": "code",
   "execution_count": null,
   "source": [],
   "outputs": [],
   "metadata": {}
  }
 ],
 "metadata": {
  "orig_nbformat": 4,
  "language_info": {
   "name": "python",
   "version": "3.9.4",
   "mimetype": "text/x-python",
   "codemirror_mode": {
    "name": "ipython",
    "version": 3
   },
   "pygments_lexer": "ipython3",
   "nbconvert_exporter": "python",
   "file_extension": ".py"
  },
  "kernelspec": {
   "name": "python3",
   "display_name": "Python 3.9.4 64-bit ('.venv': venv)"
  },
  "interpreter": {
   "hash": "6dbb88450612fe86a9789813e9e39a41a48e9096aa7352a7be87a3432feebada"
  }
 },
 "nbformat": 4,
 "nbformat_minor": 2
}