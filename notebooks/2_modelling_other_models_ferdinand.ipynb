{
 "cells": [
  {
   "cell_type": "code",
   "execution_count": 23,
   "source": [
    "import pandas as pd\n",
    "import numpy as np\n",
    "from sklearn.svm import SVR\n",
    "from sklearn.ensemble import RandomForestRegressor\n",
    "import matplotlib.pyplot as plt\n",
    "from sklearn.model_selection import train_test_split\n",
    "from sklearn.metrics import mean_squared_error"
   ],
   "outputs": [],
   "metadata": {}
  },
  {
   "cell_type": "code",
   "execution_count": 2,
   "source": [
    "data_all = pd.read_csv('../data/GEFCom2014Data/Wind/raw_data_incl_features.csv', date_parser='TIMESTAMP')"
   ],
   "outputs": [],
   "metadata": {}
  },
  {
   "cell_type": "code",
   "execution_count": 3,
   "source": [
    "data_all.dropna(inplace=True, axis=0)\n",
    "data_all.info()"
   ],
   "outputs": [
    {
     "output_type": "stream",
     "name": "stdout",
     "text": [
      "<class 'pandas.core.frame.DataFrame'>\n",
      "Int64Index: 175265 entries, 0 to 175433\n",
      "Data columns (total 19 columns):\n",
      " #   Column      Non-Null Count   Dtype  \n",
      "---  ------      --------------   -----  \n",
      " 0   ZONEID      175265 non-null  int64  \n",
      " 1   TIMESTAMP   175265 non-null  object \n",
      " 2   TARGETVAR   175265 non-null  float64\n",
      " 3   U10         175265 non-null  float64\n",
      " 4   V10         175265 non-null  float64\n",
      " 5   U100        175265 non-null  float64\n",
      " 6   V100        175265 non-null  float64\n",
      " 7   HOUR        175265 non-null  int64  \n",
      " 8   MONTH       175265 non-null  int64  \n",
      " 9   WEEKDAY     175265 non-null  int64  \n",
      " 10  IS_HOLIDAY  175265 non-null  int64  \n",
      " 11  WS10        175265 non-null  float64\n",
      " 12  WS100       175265 non-null  float64\n",
      " 13  WD10        175265 non-null  float64\n",
      " 14  WD100       175265 non-null  float64\n",
      " 15  WD100CARD   175265 non-null  object \n",
      " 16  WD10CARD    175265 non-null  object \n",
      " 17  U100NORM    175265 non-null  float64\n",
      " 18  V100NORM    175265 non-null  float64\n",
      "dtypes: float64(11), int64(5), object(3)\n",
      "memory usage: 26.7+ MB\n"
     ]
    }
   ],
   "metadata": {}
  },
  {
   "cell_type": "code",
   "execution_count": 14,
   "source": [
    "data_all_dummies = pd.get_dummies(data_all,columns=['WD100CARD', 'WD10CARD'], drop_first=True)"
   ],
   "outputs": [],
   "metadata": {}
  },
  {
   "cell_type": "code",
   "execution_count": 21,
   "source": [
    "zone1 = data_all_dummies[data_all_dummies['ZONEID']==1]"
   ],
   "outputs": [],
   "metadata": {}
  },
  {
   "cell_type": "code",
   "execution_count": 6,
   "source": [
    "features = ['HOUR', 'MONTH', 'WEEKDAY', 'IS_HOLIDAY', 'WS10', 'WS100', \n",
    "            'U100NORM', 'V100NORM']\n",
    "features"
   ],
   "outputs": [
    {
     "output_type": "execute_result",
     "data": {
      "text/plain": [
       "['HOUR',\n",
       " 'MONTH',\n",
       " 'WEEKDAY',\n",
       " 'IS_HOLIDAY',\n",
       " 'WS10',\n",
       " 'WS100',\n",
       " 'U100NORM',\n",
       " 'V100NORM']"
      ]
     },
     "metadata": {},
     "execution_count": 6
    }
   ],
   "metadata": {}
  },
  {
   "cell_type": "code",
   "execution_count": 7,
   "source": [
    "y = zone1['TARGETVAR']\n",
    "X = zone1[features]"
   ],
   "outputs": [],
   "metadata": {}
  },
  {
   "cell_type": "code",
   "execution_count": 8,
   "source": [
    "X_train, X_test, y_train, y_test = train_test_split(X, y, random_state=42, test_size=0.25)"
   ],
   "outputs": [],
   "metadata": {}
  },
  {
   "cell_type": "code",
   "execution_count": 10,
   "source": [
    "rg_svr = SVR(kernel=\"rbf\", C=100, gamma=0.1, epsilon=0.1)\n",
    "rg_svr.fit(X_train, y_train)"
   ],
   "outputs": [
    {
     "output_type": "execute_result",
     "data": {
      "text/plain": [
       "SVR(C=100, gamma=0.1)"
      ]
     },
     "metadata": {},
     "execution_count": 10
    }
   ],
   "metadata": {}
  },
  {
   "cell_type": "code",
   "execution_count": 11,
   "source": [
    "y_pred_train = rg_svr.predict(X_test)\n",
    "print(f'RMSE train data: {mean_squared_error(y_test, y_pred_train,squared=False)}')"
   ],
   "outputs": [
    {
     "output_type": "stream",
     "name": "stdout",
     "text": [
      "RMSE train data: 0.1626628864635264\n"
     ]
    }
   ],
   "metadata": {}
  },
  {
   "cell_type": "code",
   "execution_count": null,
   "source": [
    "features = ['HOUR', 'MONTH', 'WEEKDAY', 'IS_HOLIDAY', 'WS10', 'WS100', \n",
    "            'U100NORM', 'V100NORM']\n",
    "features\n",
    "y = zone1['TARGETVAR']\n",
    "X = zone1[features]\n",
    "X_train, X_test, y_train, y_test = train_test_split(X, y, random_state=42, test_size=0.25)\n"
   ],
   "outputs": [],
   "metadata": {}
  },
  {
   "cell_type": "code",
   "execution_count": null,
   "source": [
    "features = data_all_dummies.columns\n",
    "features\n",
    "features_remove = [ 'ZONEID', 'TIMESTAMP', 'TARGETVAR', 'U10', 'V10', 'U100', 'V100', \n",
    "                    'WD10', 'WD100', 'U100NORM', 'V100NORM']\n",
    "features = [ff for ff in features if ff not in features_remove]"
   ],
   "outputs": [],
   "metadata": {}
  },
  {
   "cell_type": "markdown",
   "source": [
    "## Random Forest"
   ],
   "metadata": {}
  },
  {
   "cell_type": "code",
   "execution_count": null,
   "source": [
    "# wind direction as categorial variables\n",
    "rg_rf = RandomForestRegressor(n_jobs=-1)\n",
    "rg_rf.fit(X_train, y_train)\n",
    "y_pred_train = rg_svr.predict(X_test)\n",
    "print(f'RMSE train data: {mean_squared_error(y_test, y_pred_train,squared=False)}')"
   ],
   "outputs": [],
   "metadata": {}
  },
  {
   "cell_type": "code",
   "execution_count": 24,
   "source": [
    "# wind direction as categorial variables\n",
    "rg_rf = RandomForestRegressor(n_jobs=-1)\n",
    "rg_rf.fit(X_train, y_train)\n",
    "y_pred_train = rg_svr.predict(X_test)\n",
    "print(f'RMSE train data: {mean_squared_error(y_test, y_pred_train,squared=False)}')"
   ],
   "outputs": [
    {
     "output_type": "stream",
     "name": "stdout",
     "text": [
      "RMSE train data: 0.16338572436067555\n"
     ]
    }
   ],
   "metadata": {}
  },
  {
   "cell_type": "code",
   "execution_count": 25,
   "source": [
    "y = data_all_dummies['TARGETVAR']\n",
    "X = data_all_dummies[features]\n",
    "X_train, X_test, y_train, y_test = train_test_split(X, y, random_state=42, test_size=0.25)\n",
    "rg_svr = SVR(kernel=\"rbf\", C=100, gamma=0.1, epsilon=0.1)\n",
    "rg_svr.fit(X_train, y_train)\n",
    "y_pred_test = rg_svr.predict(X_test)\n",
    "y_pred_test = [0 if ff<0 else 1 if ff>1 else ff for ff in y_pred_test]\n",
    "print(f'RMSE train data: {mean_squared_error(y_test, y_pred_train,squared=False)}')"
   ],
   "outputs": [],
   "metadata": {}
  },
  {
   "cell_type": "code",
   "execution_count": null,
   "source": [],
   "outputs": [],
   "metadata": {}
  }
 ],
 "metadata": {
  "orig_nbformat": 4,
  "language_info": {
   "name": "python",
   "version": "3.9.4",
   "mimetype": "text/x-python",
   "codemirror_mode": {
    "name": "ipython",
    "version": 3
   },
   "pygments_lexer": "ipython3",
   "nbconvert_exporter": "python",
   "file_extension": ".py"
  },
  "kernelspec": {
   "name": "python3",
   "display_name": "Python 3.9.4 64-bit ('.venv': venv)"
  },
  "interpreter": {
   "hash": "6dbb88450612fe86a9789813e9e39a41a48e9096aa7352a7be87a3432feebada"
  }
 },
 "nbformat": 4,
 "nbformat_minor": 2
}