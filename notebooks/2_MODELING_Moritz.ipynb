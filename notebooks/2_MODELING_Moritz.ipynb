{
 "cells": [
  {
   "cell_type": "code",
   "execution_count": 2,
   "source": [
    "# Import Libraries\n",
    "import pandas as pd\n",
    "import numpy as np\n",
    "from sklearn.linear_model import LinearRegression\n",
    "from sklearn.metrics import mean_squared_error, mean_absolute_error\n",
    "from sklearn.model_selection import train_test_split"
   ],
   "outputs": [
    {
     "output_type": "stream",
     "name": "stderr",
     "text": [
      "/Users/msp/neuefische/Capstone_WindPowerPredicting/.venv/lib/python3.9/site-packages/pandas/compat/__init__.py:124: UserWarning: Could not import the lzma module. Your installed Python is incomplete. Attempting to use lzma compression will result in a RuntimeError.\n",
      "  warnings.warn(msg)\n"
     ]
    }
   ],
   "metadata": {}
  },
  {
   "cell_type": "code",
   "execution_count": 3,
   "source": [
    "df = pd.read_csv('../data/GEFCom2014Data/Wind/raw_data_incl_features.csv', parse_dates=['TIMESTAMP'])\n",
    "df.info()"
   ],
   "outputs": [
    {
     "output_type": "stream",
     "name": "stdout",
     "text": [
      "<class 'pandas.core.frame.DataFrame'>\n",
      "RangeIndex: 175440 entries, 0 to 175439\n",
      "Data columns (total 19 columns):\n",
      " #   Column      Non-Null Count   Dtype         \n",
      "---  ------      --------------   -----         \n",
      " 0   ZONEID      175440 non-null  int64         \n",
      " 1   TIMESTAMP   175440 non-null  datetime64[ns]\n",
      " 2   TARGETVAR   175265 non-null  float64       \n",
      " 3   U10         175440 non-null  float64       \n",
      " 4   V10         175440 non-null  float64       \n",
      " 5   U100        175440 non-null  float64       \n",
      " 6   V100        175440 non-null  float64       \n",
      " 7   HOUR        175440 non-null  int64         \n",
      " 8   MONTH       175440 non-null  int64         \n",
      " 9   WEEKDAY     175440 non-null  int64         \n",
      " 10  IS_HOLIDAY  175440 non-null  int64         \n",
      " 11  WS10        175440 non-null  float64       \n",
      " 12  WS100       175440 non-null  float64       \n",
      " 13  WD10        175440 non-null  float64       \n",
      " 14  WD100       175440 non-null  float64       \n",
      " 15  WD100CARD   175440 non-null  object        \n",
      " 16  WD10CARD    175440 non-null  object        \n",
      " 17  U100NORM    175440 non-null  float64       \n",
      " 18  V100NORM    175440 non-null  float64       \n",
      "dtypes: datetime64[ns](1), float64(11), int64(5), object(2)\n",
      "memory usage: 25.4+ MB\n"
     ]
    }
   ],
   "metadata": {}
  },
  {
   "cell_type": "code",
   "execution_count": 4,
   "source": [
    "df.TARGETVAR = df.TARGETVAR.fillna(0)"
   ],
   "outputs": [],
   "metadata": {}
  },
  {
   "cell_type": "code",
   "execution_count": 5,
   "source": [
    "target = 'TARGETVAR'\n",
    "features = [feat for feat in df.columns.to_list() if not (feat in [target, 'TIMESTAMP', 'WD100CARD', 'WD10CARD'])]\n"
   ],
   "outputs": [],
   "metadata": {}
  },
  {
   "cell_type": "code",
   "execution_count": 6,
   "source": [
    "X = pd.DataFrame(df[['ZONEID', 'WS100']])\n",
    "y = df[target]\n",
    "\n",
    "# cat_var = ['MONTH','WEEKDAY']\n",
    "# X = pd.get_dummies(X, columns=cat_var, drop_first=True)\n",
    "\n",
    "X_train, X_test, y_train, y_test = train_test_split(X,y, test_size=0.25, random_state= 42)"
   ],
   "outputs": [],
   "metadata": {}
  },
  {
   "cell_type": "code",
   "execution_count": 7,
   "source": [
    "features = [feat for feat in X.columns.to_list() if not (feat in [target, 'TIMESTAMP', 'WD100CARD', 'WD10CARD'])]\n",
    "\n",
    "results = {}\n",
    "for feat in features:\n",
    "    X_train_feat = pd.DataFrame(X_train[feat])\n",
    "    X_test_feat = pd.DataFrame(X_test[feat])\n",
    "    model = LinearRegression()\n",
    "    model.fit(X_train_feat, y_train)\n",
    "    y_pred = model.predict(X_test_feat)\n",
    "    y_pred = [1 if value > 1 else 0 if value < 0 else value for value in y_pred]\n",
    "    results[feat] = mean_squared_error(y_test, y_pred, squared=False)\n",
    "\n",
    "results\n",
    "    "
   ],
   "outputs": [
    {
     "output_type": "execute_result",
     "data": {
      "text/plain": [
       "{'ZONEID': 0.3102655307998044, 'WS100': 0.19619795440927637}"
      ]
     },
     "metadata": {},
     "execution_count": 7
    }
   ],
   "metadata": {}
  },
  {
   "cell_type": "code",
   "execution_count": 8,
   "source": [
    "model = LinearRegression()\n",
    "model.fit(pd.DataFrame(X_train['WS100']), y_train)\n",
    "y_pred = model.predict(pd.DataFrame(X_test[X_test['ZONEID'] == 10]['WS100']))\n",
    "y_pred = [1 if value > 1 else 0 if value < 0 else value for value in y_pred]\n",
    "print(mean_squared_error(y_test[X_test['ZONEID'] == 10], y_pred, squared=False))\n",
    "print(model.coef_)\n",
    "print(model.intercept_)"
   ],
   "outputs": [
    {
     "output_type": "stream",
     "name": "stdout",
     "text": [
      "0.25391238177041414\n",
      "[0.085058]\n",
      "-0.2002744156219452\n"
     ]
    }
   ],
   "metadata": {}
  },
  {
   "cell_type": "code",
   "execution_count": 9,
   "source": [
    "zones = df.ZONEID.unique()\n",
    "\n",
    "zone_X_train = {zone: X_train[X_train.ZONEID == zone] for zone in zones}\n",
    "zone_X_test = {zone: X_test[X_test.ZONEID == zone] for zone in zones}\n",
    "zone_y_train = {zone: y_train[X_train.ZONEID == zone] for zone in zones}\n",
    "zone_y_test = {zone: y_test[X_test.ZONEID == zone] for zone in zones}\n",
    "\n",
    "results = {}\n",
    "\n",
    "y_pred_all = np.array([])\n",
    "y_pred_idx = np.array([], dtype = 'int')\n",
    "\n",
    "zone_y_train[1]\n",
    "\n",
    "for zone in zones:\n",
    "    model = LinearRegression()\n",
    "    model.fit(zone_X_train[zone], zone_y_train[zone])\n",
    "    y_pred = model.predict(zone_X_test[zone])\n",
    "    y_pred = [1 if value > 1 else 0 if value < 0 else value for value in y_pred]\n",
    "    results[\"ZONE\" + str(zone)] = mean_squared_error(zone_y_test[zone], y_pred, squared=False)\n",
    "    y_pred_all = np.concatenate([y_pred_all, y_pred], axis = 0)\n",
    "    y_pred_idx = np.concatenate([y_pred_idx, zone_X_test[zone].index], axis = 0)\n",
    "\n",
    "y_pred_all\n",
    "y_pred_idx\n"
   ],
   "outputs": [
    {
     "output_type": "execute_result",
     "data": {
      "text/plain": [
       "array([    54,   3099,   6098, ..., 163683, 174903, 165033])"
      ]
     },
     "metadata": {},
     "execution_count": 9
    }
   ],
   "metadata": {}
  },
  {
   "cell_type": "code",
   "execution_count": 10,
   "source": [
    "print(mean_squared_error(y_test[y_pred_idx], y_pred_all, squared=False))"
   ],
   "outputs": [
    {
     "output_type": "stream",
     "name": "stdout",
     "text": [
      "0.1828095251345052\n"
     ]
    }
   ],
   "metadata": {}
  },
  {
   "cell_type": "code",
   "execution_count": 11,
   "source": [
    "print(mean_absolute_error(y_test[y_pred_idx], y_pred_all))"
   ],
   "outputs": [
    {
     "output_type": "stream",
     "name": "stdout",
     "text": [
      "0.13907925073665625\n"
     ]
    }
   ],
   "metadata": {}
  },
  {
   "cell_type": "code",
   "execution_count": 12,
   "source": [
    "target = 'TARGETVAR'\n",
    "features = [feat for feat in df.columns.to_list() if not (feat in [target, 'TIMESTAMP', 'WD100CARD', 'WD10CARD'])]\n",
    "\n",
    "X = pd.DataFrame(df[features])\n",
    "y = df[target]"
   ],
   "outputs": [],
   "metadata": {}
  },
  {
   "cell_type": "code",
   "execution_count": 13,
   "source": [
    "X_train, X_test, y_train, y_test = train_test_split(X,y, test_size=0.25, random_state= 42)"
   ],
   "outputs": [],
   "metadata": {}
  },
  {
   "cell_type": "code",
   "execution_count": 14,
   "source": [
    "features = [feat for feat in X.columns.to_list() if not (feat in [target, 'TIMESTAMP', 'WD100CARD', 'WD10CARD'])]\n",
    "\n",
    "results = {}\n",
    "for feat in features:\n",
    "    X_train_feat = pd.DataFrame(X_train[feat])\n",
    "    X_test_feat = pd.DataFrame(X_test[feat])\n",
    "    model = LinearRegression()\n",
    "    model.fit(X_train_feat, y_train)\n",
    "    y_pred = model.predict(X_test_feat)\n",
    "    y_pred = [1 if value > 1 else 0 if value < 0 else value for value in y_pred]\n",
    "    results[feat] = mean_squared_error(y_test, y_pred, squared=False)\n",
    "\n",
    "results"
   ],
   "outputs": [
    {
     "output_type": "execute_result",
     "data": {
      "text/plain": [
       "{'ZONEID': 0.3102655307998044,\n",
       " 'U10': 0.29958429531983355,\n",
       " 'V10': 0.30859623186672924,\n",
       " 'U100': 0.3003220531664418,\n",
       " 'V100': 0.3080778064016507,\n",
       " 'HOUR': 0.3101277553237553,\n",
       " 'MONTH': 0.3100492597067838,\n",
       " 'WEEKDAY': 0.3104016265961158,\n",
       " 'IS_HOLIDAY': 0.3103656397335789,\n",
       " 'WS10': 0.2159201895420417,\n",
       " 'WS100': 0.19619795440927637,\n",
       " 'WD10': 0.30812739809190964,\n",
       " 'WD100': 0.30806366989719,\n",
       " 'U100NORM': 0.3070737945280548,\n",
       " 'V100NORM': 0.30824982723319216}"
      ]
     },
     "metadata": {},
     "execution_count": 14
    }
   ],
   "metadata": {}
  },
  {
   "cell_type": "code",
   "execution_count": 15,
   "source": [
    "model = LinearRegression()\n",
    "model.fit(pd.DataFrame(X_train), y_train)\n",
    "y_pred = model.predict(pd.DataFrame(X_test))\n",
    "y_pred = [1 if value > 1 else 0 if value < 0 else value for value in y_pred]\n",
    "print(mean_squared_error(y_test, y_pred, squared=False))\n",
    "print(model.coef_)\n",
    "print(model.intercept_)"
   ],
   "outputs": [
    {
     "output_type": "stream",
     "name": "stdout",
     "text": [
      "0.1941849751964938\n",
      "[ 1.82954021e-03 -2.56563235e-02 -7.50898953e-03  9.50211906e-03\n",
      "  9.43635343e-03  2.44325741e-03 -7.12067142e-04  4.02259288e-04\n",
      " -1.47794868e-03  2.88128404e-02  7.09351243e-02  3.69580024e-05\n",
      "  4.71484870e-05  1.51601846e-02 -2.84648882e-02]\n",
      "-0.2643533880903222\n"
     ]
    }
   ],
   "metadata": {}
  },
  {
   "cell_type": "code",
   "execution_count": 16,
   "source": [
    "zones = df.ZONEID.unique()\n",
    "\n",
    "zone_X_train = {zone: X_train[X_train.ZONEID == zone] for zone in zones}\n",
    "zone_X_test = {zone: X_test[X_test.ZONEID == zone] for zone in zones}\n",
    "zone_y_train = {zone: y_train[X_train.ZONEID == zone] for zone in zones}\n",
    "zone_y_test = {zone: y_test[X_test.ZONEID == zone] for zone in zones}\n",
    "\n",
    "results = {}\n",
    "\n",
    "y_pred_all = np.array([])\n",
    "y_pred_idx = np.array([], dtype = 'int')\n",
    "\n",
    "zone_y_train[1]\n",
    "\n",
    "for zone in zones:\n",
    "    model = LinearRegression()\n",
    "    model.fit(zone_X_train[zone], zone_y_train[zone])\n",
    "    y_pred = model.predict(zone_X_test[zone])\n",
    "    y_pred = [1 if value > 1 else 0 if value < 0 else value for value in y_pred]\n",
    "    results[\"ZONE\" + str(zone)] = mean_squared_error(zone_y_test[zone], y_pred, squared=False)\n",
    "    y_pred_all = np.concatenate([y_pred_all, y_pred], axis = 0)\n",
    "    y_pred_idx = np.concatenate([y_pred_idx, zone_X_test[zone].index], axis = 0)\n",
    "\n",
    "y_pred_all\n",
    "y_pred_idx\n",
    "\n",
    "print(mean_squared_error(y_test[y_pred_idx], y_pred_all, squared=False))\n",
    "print(mean_absolute_error(y_test[y_pred_idx], y_pred_all))"
   ],
   "outputs": [
    {
     "output_type": "stream",
     "name": "stdout",
     "text": [
      "0.17570275736217736\n",
      "0.13283009672435786\n"
     ]
    }
   ],
   "metadata": {}
  },
  {
   "cell_type": "code",
   "execution_count": 17,
   "source": [],
   "outputs": [
    {
     "output_type": "execute_result",
     "data": {
      "text/html": [
       "<div>\n",
       "<style scoped>\n",
       "    .dataframe tbody tr th:only-of-type {\n",
       "        vertical-align: middle;\n",
       "    }\n",
       "\n",
       "    .dataframe tbody tr th {\n",
       "        vertical-align: top;\n",
       "    }\n",
       "\n",
       "    .dataframe thead th {\n",
       "        text-align: right;\n",
       "    }\n",
       "</style>\n",
       "<table border=\"1\" class=\"dataframe\">\n",
       "  <thead>\n",
       "    <tr style=\"text-align: right;\">\n",
       "      <th></th>\n",
       "      <th>TIMESTAMP</th>\n",
       "      <th>TARGETVAR</th>\n",
       "      <th>U10</th>\n",
       "      <th>V10</th>\n",
       "      <th>U100</th>\n",
       "      <th>V100</th>\n",
       "      <th>HOUR</th>\n",
       "      <th>MONTH</th>\n",
       "      <th>WEEKDAY</th>\n",
       "      <th>IS_HOLIDAY</th>\n",
       "      <th>WS10</th>\n",
       "      <th>WS100</th>\n",
       "      <th>WD10</th>\n",
       "      <th>WD100</th>\n",
       "      <th>WD100CARD</th>\n",
       "      <th>WD10CARD</th>\n",
       "      <th>U100NORM</th>\n",
       "      <th>V100NORM</th>\n",
       "    </tr>\n",
       "    <tr>\n",
       "      <th>ZONEID</th>\n",
       "      <th></th>\n",
       "      <th></th>\n",
       "      <th></th>\n",
       "      <th></th>\n",
       "      <th></th>\n",
       "      <th></th>\n",
       "      <th></th>\n",
       "      <th></th>\n",
       "      <th></th>\n",
       "      <th></th>\n",
       "      <th></th>\n",
       "      <th></th>\n",
       "      <th></th>\n",
       "      <th></th>\n",
       "      <th></th>\n",
       "      <th></th>\n",
       "      <th></th>\n",
       "      <th></th>\n",
       "    </tr>\n",
       "  </thead>\n",
       "  <tbody>\n",
       "    <tr>\n",
       "      <th>False</th>\n",
       "      <td>175440</td>\n",
       "      <td>175440</td>\n",
       "      <td>175440</td>\n",
       "      <td>175440</td>\n",
       "      <td>175440</td>\n",
       "      <td>175440</td>\n",
       "      <td>175440</td>\n",
       "      <td>175440</td>\n",
       "      <td>175440</td>\n",
       "      <td>175440</td>\n",
       "      <td>175440</td>\n",
       "      <td>175440</td>\n",
       "      <td>175440</td>\n",
       "      <td>175440</td>\n",
       "      <td>175440</td>\n",
       "      <td>175440</td>\n",
       "      <td>175440</td>\n",
       "      <td>175440</td>\n",
       "    </tr>\n",
       "  </tbody>\n",
       "</table>\n",
       "</div>"
      ],
      "text/plain": [
       "        TIMESTAMP  TARGETVAR     U10     V10    U100    V100    HOUR   MONTH  \\\n",
       "ZONEID                                                                         \n",
       "False      175440     175440  175440  175440  175440  175440  175440  175440   \n",
       "\n",
       "        WEEKDAY  IS_HOLIDAY    WS10   WS100    WD10   WD100  WD100CARD  \\\n",
       "ZONEID                                                                   \n",
       "False    175440      175440  175440  175440  175440  175440     175440   \n",
       "\n",
       "        WD10CARD  U100NORM  V100NORM  \n",
       "ZONEID                                \n",
       "False     175440    175440    175440  "
      ]
     },
     "metadata": {},
     "execution_count": 17
    }
   ],
   "metadata": {}
  },
  {
   "cell_type": "code",
   "execution_count": null,
   "source": [],
   "outputs": [],
   "metadata": {}
  }
 ],
 "metadata": {
  "orig_nbformat": 4,
  "language_info": {
   "name": "python",
   "version": "3.9.4",
   "mimetype": "text/x-python",
   "codemirror_mode": {
    "name": "ipython",
    "version": 3
   },
   "pygments_lexer": "ipython3",
   "nbconvert_exporter": "python",
   "file_extension": ".py"
  },
  "kernelspec": {
   "name": "python3",
   "display_name": "Python 3.9.4 64-bit ('.venv': venv)"
  },
  "interpreter": {
   "hash": "5c32089ddbba55d018a1fc710396524a984c16934865ee3a97cb2be88dcf51ed"
  }
 },
 "nbformat": 4,
 "nbformat_minor": 2
}