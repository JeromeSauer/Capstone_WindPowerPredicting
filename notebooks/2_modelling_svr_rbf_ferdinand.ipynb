{
 "cells": [
  {
   "cell_type": "markdown",
   "source": [
    "# 2. Modelling SVR Linear\n",
    "\n",
    "---"
   ],
   "metadata": {}
  },
  {
   "cell_type": "code",
   "execution_count": 31,
   "source": [
    "## load modules and run mlflow_logging.ipynb to get function to track model information on MLFLow\n",
    "import sys\n",
    "sys.path.append(\"..\")\n",
    "import numpy as np\n",
    "import pandas as pd\n",
    "from sklearn.model_selection import train_test_split\n",
    "from sklearn.metrics import mean_squared_error, r2_score\n",
    "from sklearn.svm import LinearSVR, SVR\n",
    "import seaborn as sns\n",
    "from sklearn.preprocessing import MinMaxScaler, StandardScaler\n",
    "\n",
    "\n",
    "from sklearn.model_selection import GridSearchCV\n",
    "\n",
    "from modeling.functions import modelling, log_to_mlflow, get_features, save_models, load_models"
   ],
   "outputs": [],
   "metadata": {}
  },
  {
   "cell_type": "code",
   "execution_count": 32,
   "source": [
    "data = pd.read_csv('../data/GEFCom2014Data/Wind/raw_data_incl_features.csv', parse_dates=['TIMESTAMP'])\n",
    "data.head()\n",
    "data.dropna(inplace=True)\n",
    "data.info()\n",
    "RSEED = 42"
   ],
   "outputs": [
    {
     "output_type": "stream",
     "name": "stdout",
     "text": [
      "<class 'pandas.core.frame.DataFrame'>\n",
      "Int64Index: 175265 entries, 0 to 175433\n",
      "Data columns (total 19 columns):\n",
      " #   Column      Non-Null Count   Dtype         \n",
      "---  ------      --------------   -----         \n",
      " 0   ZONEID      175265 non-null  int64         \n",
      " 1   TIMESTAMP   175265 non-null  datetime64[ns]\n",
      " 2   TARGETVAR   175265 non-null  float64       \n",
      " 3   U10         175265 non-null  float64       \n",
      " 4   V10         175265 non-null  float64       \n",
      " 5   U100        175265 non-null  float64       \n",
      " 6   V100        175265 non-null  float64       \n",
      " 7   HOUR        175265 non-null  int64         \n",
      " 8   MONTH       175265 non-null  int64         \n",
      " 9   WEEKDAY     175265 non-null  int64         \n",
      " 10  IS_HOLIDAY  175265 non-null  int64         \n",
      " 11  WS10        175265 non-null  float64       \n",
      " 12  WS100       175265 non-null  float64       \n",
      " 13  WD10        175265 non-null  float64       \n",
      " 14  WD100       175265 non-null  float64       \n",
      " 15  WD100CARD   175265 non-null  object        \n",
      " 16  WD10CARD    175265 non-null  object        \n",
      " 17  U100NORM    175265 non-null  float64       \n",
      " 18  V100NORM    175265 non-null  float64       \n",
      "dtypes: datetime64[ns](1), float64(11), int64(5), object(2)\n",
      "memory usage: 26.7+ MB\n"
     ]
    }
   ],
   "metadata": {}
  },
  {
   "cell_type": "code",
   "execution_count": 33,
   "source": [
    "data = pd.get_dummies(data, columns = ['WD100CARD','WD10CARD'])\n",
    "data.head()"
   ],
   "outputs": [
    {
     "output_type": "execute_result",
     "data": {
      "text/html": [
       "<div>\n",
       "<style scoped>\n",
       "    .dataframe tbody tr th:only-of-type {\n",
       "        vertical-align: middle;\n",
       "    }\n",
       "\n",
       "    .dataframe tbody tr th {\n",
       "        vertical-align: top;\n",
       "    }\n",
       "\n",
       "    .dataframe thead th {\n",
       "        text-align: right;\n",
       "    }\n",
       "</style>\n",
       "<table border=\"1\" class=\"dataframe\">\n",
       "  <thead>\n",
       "    <tr style=\"text-align: right;\">\n",
       "      <th></th>\n",
       "      <th>ZONEID</th>\n",
       "      <th>TIMESTAMP</th>\n",
       "      <th>TARGETVAR</th>\n",
       "      <th>U10</th>\n",
       "      <th>V10</th>\n",
       "      <th>U100</th>\n",
       "      <th>V100</th>\n",
       "      <th>HOUR</th>\n",
       "      <th>MONTH</th>\n",
       "      <th>WEEKDAY</th>\n",
       "      <th>...</th>\n",
       "      <th>WD10CARD_NNW</th>\n",
       "      <th>WD10CARD_NW</th>\n",
       "      <th>WD10CARD_S</th>\n",
       "      <th>WD10CARD_SE</th>\n",
       "      <th>WD10CARD_SSE</th>\n",
       "      <th>WD10CARD_SSW</th>\n",
       "      <th>WD10CARD_SW</th>\n",
       "      <th>WD10CARD_W</th>\n",
       "      <th>WD10CARD_WNW</th>\n",
       "      <th>WD10CARD_WSW</th>\n",
       "    </tr>\n",
       "  </thead>\n",
       "  <tbody>\n",
       "    <tr>\n",
       "      <th>0</th>\n",
       "      <td>1</td>\n",
       "      <td>2012-01-01 01:00:00</td>\n",
       "      <td>0.000000</td>\n",
       "      <td>2.124600</td>\n",
       "      <td>-2.681966</td>\n",
       "      <td>2.864280</td>\n",
       "      <td>-3.666076</td>\n",
       "      <td>1</td>\n",
       "      <td>1</td>\n",
       "      <td>6</td>\n",
       "      <td>...</td>\n",
       "      <td>0</td>\n",
       "      <td>1</td>\n",
       "      <td>0</td>\n",
       "      <td>0</td>\n",
       "      <td>0</td>\n",
       "      <td>0</td>\n",
       "      <td>0</td>\n",
       "      <td>0</td>\n",
       "      <td>0</td>\n",
       "      <td>0</td>\n",
       "    </tr>\n",
       "    <tr>\n",
       "      <th>1</th>\n",
       "      <td>1</td>\n",
       "      <td>2012-01-01 02:00:00</td>\n",
       "      <td>0.054879</td>\n",
       "      <td>2.521695</td>\n",
       "      <td>-1.796960</td>\n",
       "      <td>3.344859</td>\n",
       "      <td>-2.464761</td>\n",
       "      <td>2</td>\n",
       "      <td>1</td>\n",
       "      <td>6</td>\n",
       "      <td>...</td>\n",
       "      <td>0</td>\n",
       "      <td>1</td>\n",
       "      <td>0</td>\n",
       "      <td>0</td>\n",
       "      <td>0</td>\n",
       "      <td>0</td>\n",
       "      <td>0</td>\n",
       "      <td>0</td>\n",
       "      <td>0</td>\n",
       "      <td>0</td>\n",
       "    </tr>\n",
       "    <tr>\n",
       "      <th>2</th>\n",
       "      <td>1</td>\n",
       "      <td>2012-01-01 03:00:00</td>\n",
       "      <td>0.110234</td>\n",
       "      <td>2.672210</td>\n",
       "      <td>-0.822516</td>\n",
       "      <td>3.508448</td>\n",
       "      <td>-1.214093</td>\n",
       "      <td>3</td>\n",
       "      <td>1</td>\n",
       "      <td>6</td>\n",
       "      <td>...</td>\n",
       "      <td>0</td>\n",
       "      <td>0</td>\n",
       "      <td>0</td>\n",
       "      <td>0</td>\n",
       "      <td>0</td>\n",
       "      <td>0</td>\n",
       "      <td>0</td>\n",
       "      <td>0</td>\n",
       "      <td>1</td>\n",
       "      <td>0</td>\n",
       "    </tr>\n",
       "    <tr>\n",
       "      <th>3</th>\n",
       "      <td>1</td>\n",
       "      <td>2012-01-01 04:00:00</td>\n",
       "      <td>0.165116</td>\n",
       "      <td>2.457504</td>\n",
       "      <td>-0.143642</td>\n",
       "      <td>3.215233</td>\n",
       "      <td>-0.355546</td>\n",
       "      <td>4</td>\n",
       "      <td>1</td>\n",
       "      <td>6</td>\n",
       "      <td>...</td>\n",
       "      <td>0</td>\n",
       "      <td>0</td>\n",
       "      <td>0</td>\n",
       "      <td>0</td>\n",
       "      <td>0</td>\n",
       "      <td>0</td>\n",
       "      <td>0</td>\n",
       "      <td>1</td>\n",
       "      <td>0</td>\n",
       "      <td>0</td>\n",
       "    </tr>\n",
       "    <tr>\n",
       "      <th>4</th>\n",
       "      <td>1</td>\n",
       "      <td>2012-01-01 05:00:00</td>\n",
       "      <td>0.156940</td>\n",
       "      <td>2.245898</td>\n",
       "      <td>0.389576</td>\n",
       "      <td>2.957678</td>\n",
       "      <td>0.332701</td>\n",
       "      <td>5</td>\n",
       "      <td>1</td>\n",
       "      <td>6</td>\n",
       "      <td>...</td>\n",
       "      <td>0</td>\n",
       "      <td>0</td>\n",
       "      <td>0</td>\n",
       "      <td>0</td>\n",
       "      <td>0</td>\n",
       "      <td>0</td>\n",
       "      <td>0</td>\n",
       "      <td>1</td>\n",
       "      <td>0</td>\n",
       "      <td>0</td>\n",
       "    </tr>\n",
       "  </tbody>\n",
       "</table>\n",
       "<p>5 rows × 49 columns</p>\n",
       "</div>"
      ],
      "text/plain": [
       "   ZONEID           TIMESTAMP  TARGETVAR       U10       V10      U100  \\\n",
       "0       1 2012-01-01 01:00:00   0.000000  2.124600 -2.681966  2.864280   \n",
       "1       1 2012-01-01 02:00:00   0.054879  2.521695 -1.796960  3.344859   \n",
       "2       1 2012-01-01 03:00:00   0.110234  2.672210 -0.822516  3.508448   \n",
       "3       1 2012-01-01 04:00:00   0.165116  2.457504 -0.143642  3.215233   \n",
       "4       1 2012-01-01 05:00:00   0.156940  2.245898  0.389576  2.957678   \n",
       "\n",
       "       V100  HOUR  MONTH  WEEKDAY  ...  WD10CARD_NNW  WD10CARD_NW  WD10CARD_S  \\\n",
       "0 -3.666076     1      1        6  ...             0            1           0   \n",
       "1 -2.464761     2      1        6  ...             0            1           0   \n",
       "2 -1.214093     3      1        6  ...             0            0           0   \n",
       "3 -0.355546     4      1        6  ...             0            0           0   \n",
       "4  0.332701     5      1        6  ...             0            0           0   \n",
       "\n",
       "   WD10CARD_SE  WD10CARD_SSE  WD10CARD_SSW  WD10CARD_SW  WD10CARD_W  \\\n",
       "0            0             0             0            0           0   \n",
       "1            0             0             0            0           0   \n",
       "2            0             0             0            0           0   \n",
       "3            0             0             0            0           1   \n",
       "4            0             0             0            0           1   \n",
       "\n",
       "   WD10CARD_WNW  WD10CARD_WSW  \n",
       "0             0             0  \n",
       "1             0             0  \n",
       "2             1             0  \n",
       "3             0             0  \n",
       "4             0             0  \n",
       "\n",
       "[5 rows x 49 columns]"
      ]
     },
     "metadata": {},
     "execution_count": 33
    }
   ],
   "metadata": {}
  },
  {
   "cell_type": "code",
   "execution_count": 34,
   "source": [
    "## train-test-split\n",
    "data_train, data_test = train_test_split(data, test_size=0.25, random_state=RSEED, stratify=data.ZONEID)"
   ],
   "outputs": [],
   "metadata": {}
  },
  {
   "cell_type": "code",
   "execution_count": 35,
   "source": [
    "# define features and feature dict\n",
    "feature_dict = get_features(data)\n",
    "\n",
    "features = feature_dict['all']"
   ],
   "outputs": [],
   "metadata": {}
  },
  {
   "cell_type": "code",
   "execution_count": 36,
   "source": [
    "# define zone\n",
    "zone = 1"
   ],
   "outputs": [],
   "metadata": {}
  },
  {
   "cell_type": "code",
   "execution_count": 37,
   "source": [
    "# split train and test data in feature and TARGETVAR parts and cut data to desired zones\n",
    "X_train = data_train[data_train.ZONEID == zone][features]\n",
    "y_train = data_train[data_train.ZONEID == zone].TARGETVAR\n",
    "\n",
    "X_test = data_test[data_test.ZONEID == zone][features]\n",
    "y_test = data_test[data_test.ZONEID == zone].TARGETVAR"
   ],
   "outputs": [],
   "metadata": {}
  },
  {
   "cell_type": "code",
   "execution_count": 38,
   "source": [
    "# Scale data\n",
    "scaler = StandardScaler()\n",
    "X_train = scaler.fit_transform(X_train)\n",
    "X_test = scaler.transform(X_test)"
   ],
   "outputs": [],
   "metadata": {}
  },
  {
   "cell_type": "code",
   "execution_count": 39,
   "source": [
    "model = SVR()\n",
    "for ii in range(5, 6):\n",
    "    model = SVR(kernel='poly', degree=ii, C=1, cache_size=100)\n",
    "    model.fit(X_train, y_train)\n",
    "    y_pred_train = model.predict(X_train)\n",
    "    y_pred_train = [1 if value >= 1 else 0 if value <= 0 else value for value in y_pred_train]\n",
    "    y_pred = model.predict(X_test)\n",
    "    y_pred = [1 if value >= 1 else 0 if value <= 0 else value for value in y_pred]\n",
    "    print(ii,': train',mean_squared_error(y_train, y_pred_train, squared=False),\n",
    "            ', test:', mean_squared_error(y_test, y_pred, squared=False))"
   ],
   "outputs": [
    {
     "output_type": "stream",
     "name": "stdout",
     "text": [
      "5 : train 0.15264726030869183 , test: 0.1649081581158808\n"
     ]
    }
   ],
   "metadata": {}
  },
  {
   "cell_type": "code",
   "execution_count": 41,
   "source": [
    "model = SVR()\n",
    "scaler = MinMaxScaler()\n",
    "\n",
    "model_dict = {}\n",
    "results = {}\n",
    "results_train = {}\n",
    "param_grid = [ \n",
    "    {           \n",
    "        'C': [0.01, 0.1, 1, 5, 10, 100], \n",
    "        'degree': [5, 6, 7, 9],\n",
    "        'kernel': ['poly']\n",
    "    },{           \n",
    "        'C': [0.01, 0.1, 1, 5, 10, 100], \n",
    "        'kernel': ['rbf']\n",
    "    }\n",
    "    ]\n",
    "\n",
    "for key in feature_dict.keys():\n",
    "    print(f'{key}')\n",
    "    results_train[key],results[key], model_dict[key] = modelling(data_train, data_test, feature_dict[key], model = model, scaler=scaler, print_scores=True, log=None, infotext_mlflow=None, save_models= True, perform_gridCV= True, param_grid= param_grid)\n",
    "    results[key] = {k : np.round(value,5) for k,value in results[key].items()}"
   ],
   "outputs": [
    {
     "output_type": "stream",
     "name": "stdout",
     "text": [
      "all\n",
      "Scaler: MinMaxScaler\n",
      "Scaled X_train min/max: 0.0, 1.0\n",
      "Scaled X_test min/max: -0.0, 1.02\n",
      "\n",
      "ZONEID 1\n",
      "Fitting 5 folds for each of 30 candidates, totalling 150 fits\n"
     ]
    },
    {
     "output_type": "stream",
     "name": "stderr",
     "text": [
      "/Users/fklein/neuefische/capstone/Capstone_WindPowerPredicting/.venv/lib/python3.9/site-packages/pandas/compat/__init__.py:124: UserWarning: Could not import the lzma module. Your installed Python is incomplete. Attempting to use lzma compression will result in a RuntimeError.\n",
      "  warnings.warn(msg)\n",
      "/Users/fklein/neuefische/capstone/Capstone_WindPowerPredicting/.venv/lib/python3.9/site-packages/pandas/compat/__init__.py:124: UserWarning: Could not import the lzma module. Your installed Python is incomplete. Attempting to use lzma compression will result in a RuntimeError.\n",
      "  warnings.warn(msg)\n",
      "/Users/fklein/neuefische/capstone/Capstone_WindPowerPredicting/.venv/lib/python3.9/site-packages/pandas/compat/__init__.py:124: UserWarning: Could not import the lzma module. Your installed Python is incomplete. Attempting to use lzma compression will result in a RuntimeError.\n",
      "  warnings.warn(msg)\n",
      "/Users/fklein/neuefische/capstone/Capstone_WindPowerPredicting/.venv/lib/python3.9/site-packages/pandas/compat/__init__.py:124: UserWarning: Could not import the lzma module. Your installed Python is incomplete. Attempting to use lzma compression will result in a RuntimeError.\n",
      "  warnings.warn(msg)\n",
      "/Users/fklein/neuefische/capstone/Capstone_WindPowerPredicting/.venv/lib/python3.9/site-packages/pandas/compat/__init__.py:124: UserWarning: Could not import the lzma module. Your installed Python is incomplete. Attempting to use lzma compression will result in a RuntimeError.\n",
      "  warnings.warn(msg)\n",
      "/Users/fklein/neuefische/capstone/Capstone_WindPowerPredicting/.venv/lib/python3.9/site-packages/pandas/compat/__init__.py:124: UserWarning: Could not import the lzma module. Your installed Python is incomplete. Attempting to use lzma compression will result in a RuntimeError.\n",
      "  warnings.warn(msg)\n",
      "/Users/fklein/neuefische/capstone/Capstone_WindPowerPredicting/.venv/lib/python3.9/site-packages/pandas/compat/__init__.py:124: UserWarning: Could not import the lzma module. Your installed Python is incomplete. Attempting to use lzma compression will result in a RuntimeError.\n",
      "  warnings.warn(msg)\n",
      "/Users/fklein/neuefische/capstone/Capstone_WindPowerPredicting/.venv/lib/python3.9/site-packages/pandas/compat/__init__.py:124: UserWarning: Could not import the lzma module. Your installed Python is incomplete. Attempting to use lzma compression will result in a RuntimeError.\n",
      "  warnings.warn(msg)\n"
     ]
    },
    {
     "output_type": "stream",
     "name": "stdout",
     "text": [
      "[CV] END ......................C=0.01, degree=5, kernel=poly; total time=   4.4s\n",
      "[CV] END ......................C=0.01, degree=6, kernel=poly; total time=   4.5s\n",
      "[CV] END ......................C=0.01, degree=5, kernel=poly; total time=   4.6s\n",
      "[CV] END ......................C=0.01, degree=5, kernel=poly; total time=   4.7s\n",
      "[CV] END ......................C=0.01, degree=5, kernel=poly; total time=   4.7s\n",
      "[CV] END ......................C=0.01, degree=5, kernel=poly; total time=   4.8s\n",
      "[CV] END ......................C=0.01, degree=6, kernel=poly; total time=   4.7s\n",
      "[CV] END ......................C=0.01, degree=6, kernel=poly; total time=   4.8s\n",
      "[CV] END ......................C=0.01, degree=6, kernel=poly; total time=   5.0s\n",
      "[CV] END ......................C=0.01, degree=6, kernel=poly; total time=   5.2s\n",
      "[CV] END ......................C=0.01, degree=7, kernel=poly; total time=   5.3s\n",
      "[CV] END ......................C=0.01, degree=7, kernel=poly; total time=   5.1s\n",
      "[CV] END ......................C=0.01, degree=7, kernel=poly; total time=   5.1s\n",
      "[CV] END ......................C=0.01, degree=7, kernel=poly; total time=   5.1s\n",
      "[CV] END ......................C=0.01, degree=7, kernel=poly; total time=   5.1s\n",
      "[CV] END ......................C=0.01, degree=9, kernel=poly; total time=   5.3s\n",
      "[CV] END ......................C=0.01, degree=9, kernel=poly; total time=   5.8s\n",
      "[CV] END .......................C=0.1, degree=5, kernel=poly; total time=   5.6s\n",
      "[CV] END .......................C=0.1, degree=5, kernel=poly; total time=   5.7s\n",
      "[CV] END .......................C=0.1, degree=5, kernel=poly; total time=   5.5s\n",
      "[CV] END ......................C=0.01, degree=9, kernel=poly; total time=   6.0s\n",
      "[CV] END .......................C=0.1, degree=5, kernel=poly; total time=   5.8s\n",
      "[CV] END ......................C=0.01, degree=9, kernel=poly; total time=   5.9s\n",
      "[CV] END ......................C=0.01, degree=9, kernel=poly; total time=   6.0s\n",
      "[CV] END .......................C=0.1, degree=5, kernel=poly; total time=   4.6s\n",
      "[CV] END .......................C=0.1, degree=6, kernel=poly; total time=   4.7s\n",
      "[CV] END .......................C=0.1, degree=6, kernel=poly; total time=   4.8s\n",
      "[CV] END .......................C=0.1, degree=6, kernel=poly; total time=   4.9s\n",
      "[CV] END .......................C=0.1, degree=6, kernel=poly; total time=   4.9s\n",
      "[CV] END .......................C=0.1, degree=6, kernel=poly; total time=   5.1s\n",
      "[CV] END .......................C=0.1, degree=7, kernel=poly; total time=   5.1s\n",
      "[CV] END .......................C=0.1, degree=7, kernel=poly; total time=   5.3s\n",
      "[CV] END .......................C=0.1, degree=7, kernel=poly; total time=   4.6s\n",
      "[CV] END .......................C=0.1, degree=7, kernel=poly; total time=   4.5s\n",
      "[CV] END .......................C=0.1, degree=7, kernel=poly; total time=   4.7s\n",
      "[CV] END .......................C=0.1, degree=9, kernel=poly; total time=   6.5s\n",
      "[CV] END .......................C=0.1, degree=9, kernel=poly; total time=   6.5s\n",
      "[CV] END .......................C=0.1, degree=9, kernel=poly; total time=   6.2s\n",
      "[CV] END .......................C=0.1, degree=9, kernel=poly; total time=   6.4s\n",
      "[CV] END .......................C=0.1, degree=9, kernel=poly; total time=   7.0s\n",
      "[CV] END .........................C=1, degree=5, kernel=poly; total time=   5.4s\n",
      "[CV] END .........................C=1, degree=5, kernel=poly; total time=   5.7s\n",
      "[CV] END .........................C=1, degree=5, kernel=poly; total time=   5.3s\n",
      "[CV] END .........................C=1, degree=5, kernel=poly; total time=   5.8s\n",
      "[CV] END .........................C=1, degree=5, kernel=poly; total time=   6.3s\n",
      "[CV] END .........................C=1, degree=6, kernel=poly; total time=   7.7s\n",
      "[CV] END .........................C=1, degree=6, kernel=poly; total time=   7.7s\n",
      "[CV] END .........................C=1, degree=6, kernel=poly; total time=   8.4s\n",
      "[CV] END .........................C=1, degree=6, kernel=poly; total time=   8.5s\n",
      "[CV] END .........................C=1, degree=6, kernel=poly; total time=   8.9s\n",
      "[CV] END .........................C=1, degree=7, kernel=poly; total time=  13.8s\n",
      "[CV] END .........................C=1, degree=7, kernel=poly; total time=  13.4s\n",
      "[CV] END .........................C=1, degree=7, kernel=poly; total time=  12.2s\n",
      "[CV] END .........................C=1, degree=7, kernel=poly; total time=  14.3s\n",
      "[CV] END .........................C=1, degree=7, kernel=poly; total time=  12.6s\n",
      "[CV] END .........................C=5, degree=5, kernel=poly; total time=  13.9s\n",
      "[CV] END .........................C=5, degree=5, kernel=poly; total time=  14.7s\n",
      "[CV] END .........................C=5, degree=5, kernel=poly; total time=  16.0s\n",
      "[CV] END .........................C=1, degree=9, kernel=poly; total time=  28.9s\n",
      "[CV] END .........................C=1, degree=9, kernel=poly; total time=  26.8s\n",
      "[CV] END .........................C=1, degree=9, kernel=poly; total time=  27.8s\n",
      "[CV] END .........................C=1, degree=9, kernel=poly; total time=  26.4s\n",
      "[CV] END .........................C=1, degree=9, kernel=poly; total time=  28.5s\n",
      "[CV] END .........................C=5, degree=5, kernel=poly; total time=  17.1s\n",
      "[CV] END .........................C=5, degree=5, kernel=poly; total time=  17.9s\n",
      "[CV] END .........................C=5, degree=6, kernel=poly; total time=  26.6s\n",
      "[CV] END .........................C=5, degree=6, kernel=poly; total time=  28.8s\n",
      "[CV] END .........................C=5, degree=6, kernel=poly; total time=  29.0s\n",
      "[CV] END .........................C=5, degree=6, kernel=poly; total time=  31.4s\n",
      "[CV] END .........................C=5, degree=6, kernel=poly; total time=  31.0s\n",
      "[CV] END .........................C=5, degree=7, kernel=poly; total time=  58.7s\n",
      "[CV] END .........................C=5, degree=7, kernel=poly; total time=  56.3s\n",
      "[CV] END .........................C=5, degree=7, kernel=poly; total time=  56.7s\n",
      "[CV] END .........................C=5, degree=7, kernel=poly; total time=  58.1s\n",
      "[CV] END .........................C=5, degree=7, kernel=poly; total time= 1.0min\n",
      "[CV] END ........................C=10, degree=5, kernel=poly; total time=  34.8s\n",
      "[CV] END ........................C=10, degree=5, kernel=poly; total time=  38.2s\n",
      "[CV] END ........................C=10, degree=5, kernel=poly; total time=  40.2s\n",
      "[CV] END ........................C=10, degree=5, kernel=poly; total time=  39.2s\n",
      "[CV] END ........................C=10, degree=5, kernel=poly; total time=  31.7s\n",
      "[CV] END ........................C=10, degree=6, kernel=poly; total time=  49.5s\n",
      "[CV] END .........................C=5, degree=9, kernel=poly; total time= 2.6min\n",
      "[CV] END .........................C=5, degree=9, kernel=poly; total time= 2.6min\n",
      "[CV] END .........................C=5, degree=9, kernel=poly; total time= 2.6min\n",
      "[CV] END ........................C=10, degree=6, kernel=poly; total time=  45.2s\n",
      "[CV] END ........................C=10, degree=6, kernel=poly; total time=  50.3s\n",
      "[CV] END .........................C=5, degree=9, kernel=poly; total time= 2.5min\n",
      "[CV] END .........................C=5, degree=9, kernel=poly; total time= 2.5min\n",
      "[CV] END ........................C=10, degree=6, kernel=poly; total time=  44.4s\n",
      "[CV] END ........................C=10, degree=6, kernel=poly; total time=  40.9s\n",
      "[CV] END ........................C=10, degree=7, kernel=poly; total time= 1.2min\n",
      "[CV] END ........................C=10, degree=7, kernel=poly; total time= 1.2min\n",
      "[CV] END ........................C=10, degree=7, kernel=poly; total time= 1.2min\n",
      "[CV] END ........................C=10, degree=7, kernel=poly; total time= 1.1min\n",
      "[CV] END ........................C=10, degree=7, kernel=poly; total time= 1.2min\n",
      "[CV] END ........................C=10, degree=9, kernel=poly; total time= 3.9min\n",
      "[CV] END ........................C=10, degree=9, kernel=poly; total time= 4.1min\n",
      "[CV] END ........................C=10, degree=9, kernel=poly; total time= 4.1min\n",
      "[CV] END ........................C=10, degree=9, kernel=poly; total time= 3.9min\n",
      "[CV] END .......................C=100, degree=5, kernel=poly; total time= 4.0min\n",
      "[CV] END ........................C=10, degree=9, kernel=poly; total time= 4.2min\n",
      "[CV] END .......................C=100, degree=5, kernel=poly; total time= 4.3min\n",
      "[CV] END .......................C=100, degree=5, kernel=poly; total time= 4.3min\n",
      "[CV] END .......................C=100, degree=5, kernel=poly; total time= 3.5min\n",
      "[CV] END .......................C=100, degree=5, kernel=poly; total time= 3.6min\n",
      "[CV] END .......................C=100, degree=6, kernel=poly; total time= 6.3min\n",
      "[CV] END .......................C=100, degree=6, kernel=poly; total time= 6.5min\n",
      "[CV] END .......................C=100, degree=6, kernel=poly; total time= 6.6min\n",
      "[CV] END .......................C=100, degree=6, kernel=poly; total time= 7.0min\n",
      "[CV] END .......................C=100, degree=6, kernel=poly; total time= 7.3min\n",
      "[CV] END .......................C=100, degree=7, kernel=poly; total time=15.0min\n"
     ]
    }
   ],
   "metadata": {}
  },
  {
   "cell_type": "code",
   "execution_count": 75,
   "source": [
    "results"
   ],
   "outputs": [
    {
     "output_type": "execute_result",
     "data": {
      "text/plain": [
       "{'all': {'ZONE1': 0.16469,\n",
       "  'ZONE2': 0.1368,\n",
       "  'ZONE3': 0.14366,\n",
       "  'ZONE4': 0.1656,\n",
       "  'ZONE5': 0.1691,\n",
       "  'ZONE6': 0.16831,\n",
       "  'ZONE7': 0.12504,\n",
       "  'ZONE8': 0.15403,\n",
       "  'ZONE9': 0.15276,\n",
       "  'ZONE10': 0.19288,\n",
       "  'TOTAL': 0.15835}}"
      ]
     },
     "metadata": {},
     "execution_count": 75
    }
   ],
   "metadata": {}
  },
  {
   "cell_type": "markdown",
   "source": [
    "knn\n",
    "'all': {'ZONE1': 0.15672,\\\n",
    "  'ZONE2': 0.13847,\\\n",
    "  'ZONE3': 0.14915,\\\n",
    "  'ZONE4': 0.17287,\\\n",
    "  'ZONE5': 0.17664,\\\n",
    "  'ZONE6': 0.1737,\\\n",
    "  'ZONE7': 0.13239,\\\n",
    "  'ZONE8': 0.15114,\\\n",
    "  'ZONE9': 0.15061,\\\n",
    "  'ZONE10': 0.19886,\\\n",
    "  'TOTAL': 0.1612},"
   ],
   "metadata": {}
  },
  {
   "cell_type": "code",
   "execution_count": 76,
   "source": [
    "model_dict"
   ],
   "outputs": [
    {
     "output_type": "execute_result",
     "data": {
      "text/plain": [
       "{'all': {1: GridSearchCV(estimator=SVR(), n_jobs=-1,\n",
       "               param_grid=[{'C': [0.1, 1, 5, 10], 'degree': [5, 6, 7],\n",
       "                            'kernel': ['poly']},\n",
       "                           {'C': [0.1, 1, 5, 10], 'kernel': ['rbf']}],\n",
       "               scoring='neg_root_mean_squared_error', verbose=2),\n",
       "  2: GridSearchCV(estimator=SVR(), n_jobs=-1,\n",
       "               param_grid=[{'C': [0.1, 1, 5, 10], 'degree': [5, 6, 7],\n",
       "                            'kernel': ['poly']},\n",
       "                           {'C': [0.1, 1, 5, 10], 'kernel': ['rbf']}],\n",
       "               scoring='neg_root_mean_squared_error', verbose=2),\n",
       "  3: GridSearchCV(estimator=SVR(), n_jobs=-1,\n",
       "               param_grid=[{'C': [0.1, 1, 5, 10], 'degree': [5, 6, 7],\n",
       "                            'kernel': ['poly']},\n",
       "                           {'C': [0.1, 1, 5, 10], 'kernel': ['rbf']}],\n",
       "               scoring='neg_root_mean_squared_error', verbose=2),\n",
       "  4: GridSearchCV(estimator=SVR(), n_jobs=-1,\n",
       "               param_grid=[{'C': [0.1, 1, 5, 10], 'degree': [5, 6, 7],\n",
       "                            'kernel': ['poly']},\n",
       "                           {'C': [0.1, 1, 5, 10], 'kernel': ['rbf']}],\n",
       "               scoring='neg_root_mean_squared_error', verbose=2),\n",
       "  5: GridSearchCV(estimator=SVR(), n_jobs=-1,\n",
       "               param_grid=[{'C': [0.1, 1, 5, 10], 'degree': [5, 6, 7],\n",
       "                            'kernel': ['poly']},\n",
       "                           {'C': [0.1, 1, 5, 10], 'kernel': ['rbf']}],\n",
       "               scoring='neg_root_mean_squared_error', verbose=2),\n",
       "  6: GridSearchCV(estimator=SVR(), n_jobs=-1,\n",
       "               param_grid=[{'C': [0.1, 1, 5, 10], 'degree': [5, 6, 7],\n",
       "                            'kernel': ['poly']},\n",
       "                           {'C': [0.1, 1, 5, 10], 'kernel': ['rbf']}],\n",
       "               scoring='neg_root_mean_squared_error', verbose=2),\n",
       "  7: GridSearchCV(estimator=SVR(), n_jobs=-1,\n",
       "               param_grid=[{'C': [0.1, 1, 5, 10], 'degree': [5, 6, 7],\n",
       "                            'kernel': ['poly']},\n",
       "                           {'C': [0.1, 1, 5, 10], 'kernel': ['rbf']}],\n",
       "               scoring='neg_root_mean_squared_error', verbose=2),\n",
       "  8: GridSearchCV(estimator=SVR(), n_jobs=-1,\n",
       "               param_grid=[{'C': [0.1, 1, 5, 10], 'degree': [5, 6, 7],\n",
       "                            'kernel': ['poly']},\n",
       "                           {'C': [0.1, 1, 5, 10], 'kernel': ['rbf']}],\n",
       "               scoring='neg_root_mean_squared_error', verbose=2),\n",
       "  9: GridSearchCV(estimator=SVR(), n_jobs=-1,\n",
       "               param_grid=[{'C': [0.1, 1, 5, 10], 'degree': [5, 6, 7],\n",
       "                            'kernel': ['poly']},\n",
       "                           {'C': [0.1, 1, 5, 10], 'kernel': ['rbf']}],\n",
       "               scoring='neg_root_mean_squared_error', verbose=2),\n",
       "  10: GridSearchCV(estimator=SVR(), n_jobs=-1,\n",
       "               param_grid=[{'C': [0.1, 1, 5, 10], 'degree': [5, 6, 7],\n",
       "                            'kernel': ['poly']},\n",
       "                           {'C': [0.1, 1, 5, 10], 'kernel': ['rbf']}],\n",
       "               scoring='neg_root_mean_squared_error', verbose=2)}}"
      ]
     },
     "metadata": {},
     "execution_count": 76
    }
   ],
   "metadata": {}
  },
  {
   "cell_type": "code",
   "execution_count": 84,
   "source": [
    "print('Best parameters')\n",
    "for key, value in model_dict['all'].items():\n",
    "    print(f'Zone: {key}: {value.best_estimator_}')"
   ],
   "outputs": [
    {
     "output_type": "stream",
     "name": "stdout",
     "text": [
      "Best parameters\n",
      "Zone: 1: SVR(C=10)\n",
      "Zone: 2: SVR(C=10)\n",
      "Zone: 3: SVR(C=10)\n",
      "Zone: 4: SVR(C=10)\n",
      "Zone: 5: SVR(C=10)\n",
      "Zone: 6: SVR(C=10)\n",
      "Zone: 7: SVR(C=10)\n",
      "Zone: 8: SVR(C=5, degree=6, kernel='poly')\n",
      "Zone: 9: SVR(C=10)\n",
      "Zone: 10: SVR(C=10)\n"
     ]
    }
   ],
   "metadata": {}
  },
  {
   "cell_type": "code",
   "execution_count": 103,
   "source": [
    "feature_dict.keys()"
   ],
   "outputs": [
    {
     "output_type": "execute_result",
     "data": {
      "text/plain": [
       "dict_keys(['all', 'no_deg', 'no_deg_norm', 'no_deg_norm_U10V10', 'no_deg_norm_WS10', 'no_comp', 'no_comp_plus_100Norm', 'no_deg_comp', 'no_ten', 'no_card', 'no_deg_comp_ten'])"
      ]
     },
     "metadata": {},
     "execution_count": 103
    }
   ],
   "metadata": {}
  },
  {
   "cell_type": "code",
   "execution_count": 125,
   "source": [
    "model_dict_bak = model_dict.copy()"
   ],
   "outputs": [],
   "metadata": {}
  },
  {
   "cell_type": "code",
   "execution_count": 131,
   "source": [
    "for key in model_dict_bak.keys():\n",
    "    for zone,value in model_dict_bak[key].items():\n",
    "        model_dict_bak[key][zone] = value.best_estimator_"
   ],
   "outputs": [],
   "metadata": {}
  },
  {
   "cell_type": "code",
   "execution_count": 150,
   "source": [
    "k1 = list(model_dict_bak)[0]\n",
    "k2 = list(model_dict_bak[k1])[0]\n",
    "m = model_dict_bak[k1][k2]\n",
    "#k2\n",
    "m.__class__.__name__"
   ],
   "outputs": [
    {
     "output_type": "execute_result",
     "data": {
      "text/plain": [
       "'SVR'"
      ]
     },
     "metadata": {},
     "execution_count": 150
    }
   ],
   "metadata": {}
  },
  {
   "cell_type": "code",
   "execution_count": null,
   "source": [],
   "outputs": [],
   "metadata": {}
  },
  {
   "cell_type": "code",
   "execution_count": 165,
   "source": [
    "import os\n",
    "print(os.getcwd())\n",
    "os.mkdir('../saved_models/test/test1')"
   ],
   "outputs": [
    {
     "output_type": "stream",
     "name": "stdout",
     "text": [
      "/Users/fklein/neuefische/capstone/Capstone_WindPowerPredicting/notebooks\n"
     ]
    }
   ],
   "metadata": {}
  },
  {
   "cell_type": "code",
   "execution_count": 169,
   "source": [
    "save_models(model_dict_bak)"
   ],
   "outputs": [],
   "metadata": {}
  },
  {
   "cell_type": "code",
   "execution_count": 173,
   "source": [
    "os.listdir('../saved_models/211130_1547_SVR')"
   ],
   "outputs": [
    {
     "output_type": "execute_result",
     "data": {
      "text/plain": [
       "['all']"
      ]
     },
     "metadata": {},
     "execution_count": 173
    }
   ],
   "metadata": {}
  },
  {
   "cell_type": "code",
   "execution_count": 174,
   "source": [
    "os.listdir()"
   ],
   "outputs": [
    {
     "output_type": "execute_result",
     "data": {
      "text/plain": [
       "['2_modelling_svr_rbf_ferdinand.ipynb',\n",
       " 'aemo_download.ipynb',\n",
       " '2_Modelling_Jerome.ipynb',\n",
       " '1_EDA_Moritz_2.ipynb',\n",
       " 'eda_ferdinand.ipynb',\n",
       " '1_EDA_Jerome.ipynb',\n",
       " '2_Modelling_Random_Forest.ipynb',\n",
       " '1_EDA_Moritz.ipynb',\n",
       " '__pycache__',\n",
       " '1_Modelling_Jerome.ipynb',\n",
       " '2_Baseline_model.ipynb',\n",
       " 'mlruns',\n",
       " '2_modelling_svr_linear_msp.ipynb',\n",
       " '3_Modelling_LightGBM_Jerome.ipynb',\n",
       " '2_MODELING_Moritz.ipynb',\n",
       " '.ipynb_checkpoints',\n",
       " '0_concatenate_train_test.ipynb',\n",
       " '1_EDA_c.ipynb',\n",
       " '2_modelling_knn_regressor.ipynb',\n",
       " '2_modelling_ferdinand.ipynb',\n",
       " 'EDA-and-modeling.ipynb']"
      ]
     },
     "metadata": {},
     "execution_count": 174
    }
   ],
   "metadata": {}
  },
  {
   "cell_type": "code",
   "execution_count": null,
   "source": [],
   "outputs": [],
   "metadata": {}
  }
 ],
 "metadata": {
  "orig_nbformat": 4,
  "language_info": {
   "name": "python",
   "version": "3.9.4",
   "mimetype": "text/x-python",
   "codemirror_mode": {
    "name": "ipython",
    "version": 3
   },
   "pygments_lexer": "ipython3",
   "nbconvert_exporter": "python",
   "file_extension": ".py"
  },
  "kernelspec": {
   "name": "python3",
   "display_name": "Python 3.9.4 64-bit ('.venv': venv)"
  },
  "interpreter": {
   "hash": "6bf04853d3fd90e38dceeec9809cf8d05177fbec35bd657075794b65848902e2"
  }
 },
 "nbformat": 4,
 "nbformat_minor": 2
}