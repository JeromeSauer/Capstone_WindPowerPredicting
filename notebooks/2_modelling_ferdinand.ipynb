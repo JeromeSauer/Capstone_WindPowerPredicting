{
 "cells": [
  {
   "cell_type": "code",
   "execution_count": 99,
   "source": [
    "import pandas as pd\n",
    "import numpy as np\n",
    "from sklearn.linear_model import LinearRegression\n",
    "from sklearn.ensemble import RandomForestRegressor\n",
    "import matplotlib.pyplot as plt\n",
    "from sklearn.model_selection import train_test_split\n",
    "from sklearn.metrics import mean_squared_error\n",
    "from sklearn.ensemble import ExtraTreesRegressor"
   ],
   "outputs": [],
   "metadata": {}
  },
  {
   "cell_type": "code",
   "execution_count": 100,
   "source": [
    "data_all = pd.read_csv('../data/GEFCom2014Data/Wind/raw_data_incl_features.csv', date_parser='TIMESTAMP')"
   ],
   "outputs": [],
   "metadata": {}
  },
  {
   "cell_type": "code",
   "execution_count": 101,
   "source": [
    "#data_all.dropna(inplace=True, axis=0)\n",
    "data_all.fillna(0, inplace=True)\n",
    "#data_all.info()\n",
    "data_all_dummies = pd.get_dummies(data_all,columns=['WD100CARD', 'WD10CARD'], drop_first=True)\n",
    "zone1 = data_all_dummies[data_all_dummies['ZONEID']==1]"
   ],
   "outputs": [],
   "metadata": {}
  },
  {
   "cell_type": "code",
   "execution_count": 102,
   "source": [
    "features = data_all_dummies.columns\n",
    "features\n",
    "features_remove = [ 'ZONEID', 'TIMESTAMP', 'TARGETVAR', 'U10', 'V10', 'U100', 'V100', \n",
    "                    'WD10', 'WD100', 'U100NORM', 'V100NORM']\n",
    "features = [ff for ff in features if ff not in features_remove]"
   ],
   "outputs": [],
   "metadata": {}
  },
  {
   "cell_type": "code",
   "execution_count": 103,
   "source": [
    "y = zone1['TARGETVAR']\n",
    "X = zone1[features]\n",
    "X_train, X_test, y_train, y_test = train_test_split(X, y, random_state=42, test_size=0.25)"
   ],
   "outputs": [],
   "metadata": {}
  },
  {
   "cell_type": "code",
   "execution_count": 104,
   "source": [
    "def fit_predict(reg, X_train, X_test, y_train, y_test):\n",
    "    reg.fit(X_train, y_train)\n",
    "    y_pred_train = reg.predict(X_train)\n",
    "    y_pred_train = [0 if ff<0 else 1 if ff>1 else ff for ff in y_pred_train]\n",
    "    y_pred_test = reg.predict(X_test)\n",
    "    y_pred_test = [0 if ff<0 else 1 if ff>1 else ff for ff in y_pred_test]\n",
    "    rmse_train = mean_squared_error(y_train, y_pred_train, squared=False)\n",
    "    print(f'RMSE train: {rmse_train}')\n",
    "    rmse_test = mean_squared_error(y_test, y_pred_test, squared=False)\n",
    "    print(f'RMSE test: {rmse_test}')\n",
    "    return rmse_train, rmse_test\n",
    "\n",
    "def remove_windy_zeros(X_train, y_train):\n",
    "    z = pd.concat([X_train, y_train], axis=1)\n",
    "    z = z[~((z['TARGETVAR']==0) & (z['WS100']>=4))]\n",
    "    X_train = z[features]\n",
    "    y_train = z['TARGETVAR']\n",
    "    return X_train, y_train"
   ],
   "outputs": [],
   "metadata": {}
  },
  {
   "cell_type": "code",
   "execution_count": 105,
   "source": [
    "def get_train_test_split(data, features, random_state=42, test_size=0.25):\n",
    "    y = data['TARGETVAR']\n",
    "    X = data[features]\n",
    "    X_train, X_test, y_train, y_test = train_test_split(X, y, random_state=42, test_size=0.25)\n",
    "    return X_train, X_test, y_train, y_test"
   ],
   "outputs": [],
   "metadata": {}
  },
  {
   "cell_type": "code",
   "execution_count": 106,
   "source": [
    "reg_lr = LinearRegression()\n",
    "fit_predict(reg_lr, X_train, X_test, y_train, y_test)"
   ],
   "outputs": [
    {
     "output_type": "stream",
     "name": "stdout",
     "text": [
      "RMSE train: 0.18470434495625396\n",
      "RMSE test: 0.18083657845849982\n"
     ]
    },
    {
     "output_type": "execute_result",
     "data": {
      "text/plain": [
       "(0.18470434495625396, 0.18083657845849982)"
      ]
     },
     "metadata": {},
     "execution_count": 106
    }
   ],
   "metadata": {}
  },
  {
   "cell_type": "markdown",
   "source": [
    "## Day / Night"
   ],
   "metadata": {}
  },
  {
   "cell_type": "code",
   "execution_count": 107,
   "source": [
    "#data_all_dummies['DAYNIGHT'] = data_all_dummies['HOUR'].apply(lambda x : 0 if x<8 else 0 if x>19 else 1)"
   ],
   "outputs": [],
   "metadata": {}
  },
  {
   "cell_type": "code",
   "execution_count": 108,
   "source": [
    "features = data_all_dummies.columns\n",
    "features\n",
    "features_remove = [ 'ZONEID', 'TIMESTAMP', 'TARGETVAR', 'U10', 'V10', 'U100', 'V100', \n",
    "                    'WD10', 'WD100', 'U100NORM', 'V100NORM']\n",
    "features = [ff for ff in features if ff not in features_remove]\n",
    "features"
   ],
   "outputs": [
    {
     "output_type": "execute_result",
     "data": {
      "text/plain": [
       "['HOUR',\n",
       " 'MONTH',\n",
       " 'WEEKDAY',\n",
       " 'IS_HOLIDAY',\n",
       " 'WS10',\n",
       " 'WS100',\n",
       " 'WD100CARD_ENE',\n",
       " 'WD100CARD_ESE',\n",
       " 'WD100CARD_N',\n",
       " 'WD100CARD_NE',\n",
       " 'WD100CARD_NNE',\n",
       " 'WD100CARD_NNW',\n",
       " 'WD100CARD_NW',\n",
       " 'WD100CARD_S',\n",
       " 'WD100CARD_SE',\n",
       " 'WD100CARD_SSE',\n",
       " 'WD100CARD_SSW',\n",
       " 'WD100CARD_SW',\n",
       " 'WD100CARD_W',\n",
       " 'WD100CARD_WNW',\n",
       " 'WD100CARD_WSW',\n",
       " 'WD10CARD_ENE',\n",
       " 'WD10CARD_ESE',\n",
       " 'WD10CARD_N',\n",
       " 'WD10CARD_NE',\n",
       " 'WD10CARD_NNE',\n",
       " 'WD10CARD_NNW',\n",
       " 'WD10CARD_NW',\n",
       " 'WD10CARD_S',\n",
       " 'WD10CARD_SE',\n",
       " 'WD10CARD_SSE',\n",
       " 'WD10CARD_SSW',\n",
       " 'WD10CARD_SW',\n",
       " 'WD10CARD_W',\n",
       " 'WD10CARD_WNW',\n",
       " 'WD10CARD_WSW']"
      ]
     },
     "metadata": {},
     "execution_count": 108
    }
   ],
   "metadata": {}
  },
  {
   "cell_type": "code",
   "execution_count": 109,
   "source": [
    "#X_train, y_train = remove_windy_zeros(X_train, y_train)\n",
    "reg = LinearRegression()\n",
    "fit_predict(reg, X_train, X_test, y_train, y_test)"
   ],
   "outputs": [
    {
     "output_type": "stream",
     "name": "stdout",
     "text": [
      "RMSE train: 0.18470434495625396\n",
      "RMSE test: 0.18083657845849982\n"
     ]
    },
    {
     "output_type": "execute_result",
     "data": {
      "text/plain": [
       "(0.18470434495625396, 0.18083657845849982)"
      ]
     },
     "metadata": {},
     "execution_count": 109
    }
   ],
   "metadata": {}
  },
  {
   "cell_type": "code",
   "execution_count": 111,
   "source": [
    "# linear model, without hours, but with day/night\n",
    "rmse_all_train, rmse_all_test = 0,0\n",
    "count = 0\n",
    "test_size = 0.25\n",
    "for idx in range(1,11):\n",
    "    zone = data_all_dummies[data_all_dummies['ZONEID']==idx]\n",
    "    X_train, X_test, y_train, y_test = get_train_test_split(zone, features, test_size)\n",
    "    #X_train, y_train = remove_windy_zeros(X_train, y_train)\n",
    "    reg = LinearRegression()\n",
    "    print('Zone ',idx)\n",
    "    rmse_train, rmse_test = fit_predict(reg, X_train, X_test, y_train, y_test)\n",
    "    rmse_all_train += rmse_train*len(y_train)\n",
    "    rmse_all_test += rmse_test*len(y_test)\n",
    "\n",
    "rmse_all_train /= data_all_dummies.shape[0]*(1-test_size)\n",
    "rmse_all_test /= data_all_dummies.shape[0]*test_size\n",
    "print('rmse_all_train',rmse_all_train)\n",
    "print('rmse_all_test', rmse_all_test)"
   ],
   "outputs": [
    {
     "output_type": "stream",
     "name": "stdout",
     "text": [
      "Zone  1\n",
      "RMSE train: 0.18470434495625396\n",
      "RMSE test: 0.18083657845849982\n",
      "Zone  2\n",
      "RMSE train: 0.15554560228882194\n",
      "RMSE test: 0.15202842260076221\n",
      "Zone  3\n",
      "RMSE train: 0.15410534153161942\n",
      "RMSE test: 0.1555744401957098\n",
      "Zone  4\n",
      "RMSE train: 0.1774753073705115\n",
      "RMSE test: 0.185432402099842\n",
      "Zone  5\n",
      "RMSE train: 0.18258680681851033\n",
      "RMSE test: 0.18482578199499852\n",
      "Zone  6\n",
      "RMSE train: 0.19002029022610087\n",
      "RMSE test: 0.19115495821545847\n",
      "Zone  7\n",
      "RMSE train: 0.1416880526746128\n",
      "RMSE test: 0.14024440292856374\n",
      "Zone  8\n",
      "RMSE train: 0.17368722472862422\n",
      "RMSE test: 0.16715420245226123\n",
      "Zone  9\n",
      "RMSE train: 0.16692662779311462\n",
      "RMSE test: 0.16282698735547158\n",
      "Zone  10\n",
      "RMSE train: 0.20523495092389699\n",
      "RMSE test: 0.20157197242865327\n",
      "rmse_all_train 0.17319745493120667\n",
      "rmse_all_test 0.17216501487302205\n"
     ]
    }
   ],
   "metadata": {}
  },
  {
   "cell_type": "code",
   "execution_count": 118,
   "source": [
    "## random forest\n",
    "rmse_all_train, rmse_all_test = 0,0\n",
    "count = 0\n",
    "test_size = 0.25\n",
    "for idx in range(1,11):\n",
    "    zone = data_all_dummies[data_all_dummies['ZONEID']==idx]\n",
    "    X_train, X_test, y_train, y_test = get_train_test_split(zone, features, test_size)\n",
    "    X_train, y_train = remove_windy_zeros(X_train, y_train)\n",
    "    reg = ExtraTreesRegressor( \n",
    "        n_estimators=20,\n",
    "        n_jobs=-1, \n",
    "        max_depth=15\n",
    "    )\n",
    "    print('Zone ',idx)\n",
    "    rmse_train, rmse_test = fit_predict(reg, X_train, X_test, y_train, y_test)\n",
    "    rmse_all_train += rmse_train*len(y_train)\n",
    "    rmse_all_test += rmse_test*len(y_test)\n",
    "\n",
    "rmse_all_train /= data_all_dummies.shape[0]*(1-test_size)\n",
    "rmse_all_test /= data_all_dummies.shape[0]*test_size\n",
    "print('rmse_all_train',rmse_all_train)\n",
    "print('rmse_all_test', rmse_all_test)"
   ],
   "outputs": [
    {
     "output_type": "stream",
     "name": "stdout",
     "text": [
      "Zone  1\n",
      "RMSE train: 0.0948590424728361\n",
      "RMSE test: 0.15506487735225136\n",
      "Zone  2\n",
      "RMSE train: 0.0751095022051934\n",
      "RMSE test: 0.1302312346430733\n",
      "Zone  3\n",
      "RMSE train: 0.09733876602981723\n",
      "RMSE test: 0.14112502001221508\n",
      "Zone  4\n",
      "RMSE train: 0.10960456081024969\n",
      "RMSE test: 0.16963925906337107\n",
      "Zone  5\n",
      "RMSE train: 0.10189938368610005\n",
      "RMSE test: 0.16383429599697094\n",
      "Zone  6\n",
      "RMSE train: 0.11409993199189851\n",
      "RMSE test: 0.1701698908628115\n",
      "Zone  7\n",
      "RMSE train: 0.07357621910071598\n",
      "RMSE test: 0.12035619582804337\n",
      "Zone  8\n",
      "RMSE train: 0.08126190389412027\n",
      "RMSE test: 0.14952024830244975\n",
      "Zone  9\n",
      "RMSE train: 0.08458637755255637\n",
      "RMSE test: 0.14613497973786896\n",
      "Zone  10\n",
      "RMSE train: 0.12538033616308245\n",
      "RMSE test: 0.18222583605596437\n",
      "rmse_all_train 0.09360801067665417\n",
      "rmse_all_test 0.15283018378550198\n"
     ]
    }
   ],
   "metadata": {}
  },
  {
   "cell_type": "code",
   "execution_count": 71,
   "source": [
    "# neural networks\n",
    "from sklearn.neural_network import MLPRegressor\n",
    "regr = MLPRegressor(random_state=1, max_iter=500)\n",
    "\n",
    "rmse_all_train, rmse_all_test = 0,0\n",
    "count = 0\n",
    "test_size = 0.25\n",
    "for idx in range(1,11):\n",
    "    zone = data_all_dummies[data_all_dummies['ZONEID']==idx]\n",
    "    X_train, X_test, y_train, y_test = get_train_test_split(zone, features, test_size)\n",
    "    X_train, y_train = remove_windy_zeros(X_train, y_train)\n",
    "    print('Zone ',idx)\n",
    "    rmse_train, rmse_test = fit_predict(regr, X_train, X_test, y_train, y_test)\n",
    "    rmse_all_train += rmse_train*len(y_train)\n",
    "    rmse_all_test += rmse_test*len(y_test)\n",
    "\n",
    "rmse_all_train /= data_all_dummies.shape[0]*(1-test_size)\n",
    "rmse_all_test /= data_all_dummies.shape[0]*test_size\n",
    "print('rmse_all_train',rmse_all_train)\n",
    "print('rmse_all_test', rmse_all_test)"
   ],
   "outputs": [
    {
     "output_type": "stream",
     "name": "stdout",
     "text": [
      "Zone  1\n",
      "RMSE train: 0.15433579455501575\n",
      "RMSE test: 0.16632753008740278\n",
      "Zone  2\n",
      "RMSE train: 0.13332380081027087\n",
      "RMSE test: 0.1424671790246357\n",
      "Zone  3\n",
      "RMSE train: 0.1361423683321396\n",
      "RMSE test: 0.14754087359761692\n",
      "Zone  4\n",
      "RMSE train: 0.1551498261313936\n",
      "RMSE test: 0.17448751089792924\n",
      "Zone  5\n",
      "RMSE train: 0.1650393405224739\n",
      "RMSE test: 0.17831736959239883\n",
      "Zone  6\n",
      "RMSE train: 0.17242719189695266\n",
      "RMSE test: 0.18556332706918832\n",
      "Zone  7\n",
      "RMSE train: 0.12154486527047029\n",
      "RMSE test: 0.1325840761085123\n",
      "Zone  8\n",
      "RMSE train: 0.13877959672853166\n",
      "RMSE test: 0.16816585913196\n",
      "Zone  9\n",
      "RMSE train: 0.14127821709925908\n",
      "RMSE test: 0.1619813749700205\n",
      "Zone  10\n",
      "RMSE train: 0.17918547071603708\n",
      "RMSE test: 0.191986177430827\n",
      "rmse_all_train 0.14632717482152627\n",
      "rmse_all_test 0.16497070272129627\n"
     ]
    }
   ],
   "metadata": {}
  },
  {
   "cell_type": "code",
   "execution_count": null,
   "source": [],
   "outputs": [],
   "metadata": {}
  }
 ],
 "metadata": {
  "orig_nbformat": 4,
  "language_info": {
   "name": "python",
   "version": "3.9.4",
   "mimetype": "text/x-python",
   "codemirror_mode": {
    "name": "ipython",
    "version": 3
   },
   "pygments_lexer": "ipython3",
   "nbconvert_exporter": "python",
   "file_extension": ".py"
  },
  "kernelspec": {
   "name": "python3",
   "display_name": "Python 3.9.4 64-bit ('.venv': venv)"
  },
  "interpreter": {
   "hash": "6dbb88450612fe86a9789813e9e39a41a48e9096aa7352a7be87a3432feebada"
  }
 },
 "nbformat": 4,
 "nbformat_minor": 2
}