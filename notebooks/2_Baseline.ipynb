{
 "cells": [
  {
   "cell_type": "markdown",
   "metadata": {},
   "source": [
    "## This is the baseline model, it predicts the wind farm dependent average electricity production and aggregate predictions overall wind farms"
   ]
  },
  {
   "cell_type": "code",
   "execution_count": null,
   "metadata": {},
   "outputs": [],
   "source": [
    "import pandas as pd\n",
    "import numpy as np"
   ]
  },
  {
   "cell_type": "code",
   "execution_count": null,
   "metadata": {},
   "outputs": [],
   "source": [
    "data = pd.read_csv('../data/GEFCom2014Data/Wind/raw_data_incl_features.csv', parse_dates=['TIMESTAMP'])\n",
    "data.dropna(inplace=True)\n",
    "RSEED = 42"
   ]
  },
  {
   "cell_type": "code",
   "execution_count": null,
   "metadata": {},
   "outputs": [],
   "source": [
    "# train_test_split\n",
    "X_train, X_test, y_train, y_test = train_test_split(X, y, test_size=0.3, random_state=RSEED, shuffle=True)"
   ]
  },
  {
   "cell_type": "code",
   "execution_count": null,
   "metadata": {},
   "outputs": [],
   "source": [
    "# zones to loop over\n",
    "zones = np.sort(train.ZONEID.unique()) \n",
    "\n",
    "# baseline predictions of all sites will be merged into one DataFrame to calculate the RMSE with respect to the observations of all zones\n",
    "# finalpred = pd.DataFrame() \n",
    "df_results = pd.DataFrame(index = [f'ZONE{zone}' for zone in zones] + ['TOTAL'], columns = ['BEST_PARAMS','CV','MODEL','FC','TESTSCORE','TRAINSCORE'])\n",
    "df_results.loc['TOTAL'].TRAINSCORE = 0\n",
    "df_results.loc['TOTAL'].TESTSCORE = 0\n",
    "df_results['MODEL'] = 'Baseline'\n",
    "\n",
    "# loop over all zones\n",
    "for zone in zones:\n",
    "\n",
    "    # get train and test data of individual zones\n",
    "    train = train[train.ZONEID == zone].TARGETVAR\n",
    "    ytest =  test[test.ZONEID == zone].TARGETVAR\n",
    "\n",
    "    # baseline predicton for individual zone\n",
    "    pred_train = np.ones(len(ytrain)) * np.mean(ytrain)\n",
    "    pred_test = np.ones(len(ytest)) * np.mean(ytrain)\n",
    "\n",
    "    df_results.loc[f'ZONE{zone}'].TRAINSCORE = mean_squared_error(ytrain, pred_train, squared=False)\n",
    "    df_results.loc[f'ZONE{zone}'].TESTSCORE = mean_squared_error(ytest, pred_test, squared=False)\n",
    "\n",
    "    df_results.loc['TOTAL'].TRAINSCORE += np.power(df_results.loc[f'ZONE{zone}'].TRAINSCORE,2) * len(ytrain)/len(train)\n",
    "    df_results.loc['TOTAL'].TESTSCORE += np.power(df_results.loc[f'ZONE{zone}'].TESTSCORE,2) * len(ytest)/len(test)\n",
    "\n",
    "    df_results.loc['TOTAL'].TRAINSCORE = np.power(df_results.loc['TOTAL'].TRAINSCORE,.5)\n",
    "    df_results.loc['TOTAL'].TESTSCORE = np.power(df_results.loc['TOTAL'].TESTSCORE,.5)\n",
    "\n",
    "    df_results.index.set_names(['ZONE'], inplace=True)\n"
   ]
  }
 ],
 "metadata": {
  "language_info": {
   "name": "python"
  },
  "orig_nbformat": 4
 },
 "nbformat": 4,
 "nbformat_minor": 2
}
