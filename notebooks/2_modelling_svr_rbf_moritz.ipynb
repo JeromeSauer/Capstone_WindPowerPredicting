{
 "cells": [
  {
   "cell_type": "markdown",
   "source": [
    "# 2. Modelling SVR Linear\n",
    "\n",
    "---"
   ],
   "metadata": {}
  },
  {
   "cell_type": "code",
   "execution_count": null,
   "source": [
    "## load modules and run mlflow_logging.ipynb to get function to track model information on MLFLow\n",
    "import sys\n",
    "sys.path.append(\"..\")\n",
    "import numpy as np\n",
    "import pandas as pd\n",
    "from sklearn.model_selection import train_test_split\n",
    "from sklearn.metrics import mean_squared_error, r2_score\n",
    "from sklearn.svm import LinearSVR, SVR\n",
    "import seaborn as sns\n",
    "from sklearn.preprocessing import MinMaxScaler, StandardScaler\n",
    "from datetime import datetime\n",
    "import pickle\n",
    "import os\n",
    "\n",
    "\n",
    "from sklearn.model_selection import GridSearchCV\n",
    "\n",
    "from modeling.functions import modelling, log_to_mlflow, get_features, save_models, load_models"
   ],
   "outputs": [],
   "metadata": {}
  },
  {
   "cell_type": "code",
   "execution_count": null,
   "source": [
    "data = pd.read_csv('../data/GEFCom2014Data/Wind/raw_data_incl_features.csv', parse_dates=['TIMESTAMP'])\n",
    "data.head()\n",
    "data.dropna(inplace=True)\n",
    "data.info()\n",
    "RSEED = 42"
   ],
   "outputs": [],
   "metadata": {}
  },
  {
   "cell_type": "code",
   "execution_count": null,
   "source": [
    "data = pd.get_dummies(data, columns = ['WD100CARD','WD10CARD'])\n",
    "data.head()"
   ],
   "outputs": [],
   "metadata": {}
  },
  {
   "cell_type": "code",
   "execution_count": null,
   "source": [
    "## train-test-split\n",
    "data_train, data_test = train_test_split(data, test_size=0.25, random_state=RSEED, stratify=data.ZONEID)"
   ],
   "outputs": [],
   "metadata": {}
  },
  {
   "cell_type": "code",
   "execution_count": null,
   "source": [
    "# define features and feature dict\n",
    "feature_dict = get_features(data)\n",
    "\n",
    "# features = feature_dict['all']"
   ],
   "outputs": [],
   "metadata": {}
  },
  {
   "cell_type": "code",
   "execution_count": null,
   "source": [
    "# # define zone\n",
    "# zone = 1"
   ],
   "outputs": [],
   "metadata": {}
  },
  {
   "cell_type": "code",
   "execution_count": null,
   "source": [
    "# # split train and test data in feature and TARGETVAR parts and cut data to desired zones\n",
    "# X_train = data_train[data_train.ZONEID == zone][features]\n",
    "# y_train = data_train[data_train.ZONEID == zone].TARGETVAR\n",
    "\n",
    "# X_test = data_test[data_test.ZONEID == zone][features]\n",
    "# y_test = data_test[data_test.ZONEID == zone].TARGETVAR"
   ],
   "outputs": [],
   "metadata": {}
  },
  {
   "cell_type": "code",
   "execution_count": null,
   "source": [
    "# # Scale data\n",
    "# scaler = StandardScaler()\n",
    "# X_train = scaler.fit_transform(X_train)\n",
    "# X_test = scaler.transform(X_test)"
   ],
   "outputs": [],
   "metadata": {}
  },
  {
   "cell_type": "code",
   "execution_count": null,
   "source": [
    "# model = SVR()\n",
    "# for ii in range(5, 6):\n",
    "#     model = SVR(kernel='poly', degree=ii, C=1, cache_size=100)\n",
    "#     model.fit(X_train, y_train)\n",
    "#     y_pred_train = model.predict(X_train)\n",
    "#     y_pred_train = [1 if value >= 1 else 0 if value <= 0 else value for value in y_pred_train]\n",
    "#     y_pred = model.predict(X_test)\n",
    "#     y_pred = [1 if value >= 1 else 0 if value <= 0 else value for value in y_pred]\n",
    "#     print(ii,': train',mean_squared_error(y_train, y_pred_train, squared=False),\n",
    "#             ', test:', mean_squared_error(y_test, y_pred, squared=False))"
   ],
   "outputs": [],
   "metadata": {}
  },
  {
   "cell_type": "code",
   "execution_count": null,
   "source": [
    "\n",
    "# model = SVR(kernel='rbf', gamma='auto', C=10)\n",
    "# model.fit(X_train, y_train)\n",
    "# y_pred_train = model.predict(X_train)\n",
    "# y_pred_train = [1 if value >= 1 else 0 if value <= 0 else value for value in y_pred_train]\n",
    "# y_pred = model.predict(X_test)\n",
    "# y_pred = [1 if value >= 1 else 0 if value <= 0 else value for value in y_pred]\n",
    "# print('train',mean_squared_error(y_train, y_pred_train, squared=False),\n",
    "#         ', test:', mean_squared_error(y_test, y_pred, squared=False))"
   ],
   "outputs": [],
   "metadata": {}
  },
  {
   "cell_type": "code",
   "execution_count": null,
   "source": [
    "model = SVR()\n",
    "scaler = MinMaxScaler()\n",
    "\n",
    "model_dict = {}\n",
    "results = {}\n",
    "results_train = {}\n",
    "param_grid = [ \n",
    "    # {           'C': [0.1, 1, 5, 10], \n",
    "    #             'degree': [5, 6, 7],\n",
    "    #             'kernel': ['poly']\n",
    "    #             },\n",
    "    {           'C': [0.1, 1, 5, 10, 100], \n",
    "                'kernel': ['rbf']\n",
    "                }\n",
    "]\n",
    "\n",
    "\n",
    "for key in feature_dict.keys():\n",
    "    print(f'Features: {key}')\n",
    "    results_train[key],results[key], model_dict[key] = modelling(data_train, data_test, feature_dict[key], \n",
    "                                                                    model = model, \n",
    "                                                                    scaler = scaler, \n",
    "                                                                    print_scores = True, \n",
    "                                                                    log = True, \n",
    "                                                                    infotext_mlflow = None, \n",
    "                                                                    save_model = True, \n",
    "                                                                    perform_gridCV = True, \n",
    "                                                                    param_grid = param_grid, \n",
    "                                                                    n_jobs = 3)\n",
    "    results[key] = {k : np.round(value,5) for k,value in results[key].items()}"
   ],
   "outputs": [],
   "metadata": {}
  },
  {
   "cell_type": "code",
   "execution_count": null,
   "source": [
    "model_dict"
   ],
   "outputs": [],
   "metadata": {}
  }
 ],
 "metadata": {
  "orig_nbformat": 4,
  "language_info": {
   "name": "python",
   "version": "3.9.4",
   "mimetype": "text/x-python",
   "codemirror_mode": {
    "name": "ipython",
    "version": 3
   },
   "pygments_lexer": "ipython3",
   "nbconvert_exporter": "python",
   "file_extension": ".py"
  },
  "kernelspec": {
   "name": "python3",
   "display_name": "Python 3.9.4 64-bit ('.venv': venv)"
  },
  "interpreter": {
   "hash": "5c32089ddbba55d018a1fc710396524a984c16934865ee3a97cb2be88dcf51ed"
  }
 },
 "nbformat": 4,
 "nbformat_minor": 2
}