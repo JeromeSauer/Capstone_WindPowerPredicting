{
 "cells": [
  {
   "cell_type": "code",
   "execution_count": 4,
   "source": [
    "import sys\n",
    "# adding to the path variables the one folder higher (locally, not changing system variables)\n",
    "sys.path.append(\"..\")\n",
    "import pandas as pd\n",
    "import numpy as np\n",
    "import warnings\n",
    "import mlflow\n",
    "\n",
    "from modeling.config import EXPERIMENT_NAME\n",
    "TRACKING_URI = open(\"../.mlflow_uri\").read().strip()\n",
    "\n",
    "warnings.filterwarnings('ignore')\n"
   ],
   "outputs": [],
   "metadata": {}
  },
  {
   "cell_type": "code",
   "execution_count": 7,
   "source": [
    "# setting the MLFlow connection and experiment\n",
    "mlflow.set_tracking_uri(TRACKING_URI)\n",
    "mlflow.set_experiment(EXPERIMENT_NAME)\n",
    "\n",
    "def log_to_mlflow(\n",
    "        ZONEID=None, Model=None, features=None, train_RMSE=None, test_RMSE=None, \n",
    "        nan_removed=False, zero_removed=False, mean=None, \n",
    "        hyperparameter=None, model_parameters=None, info=None):\n",
    "    '''Logs to mlflow. \n",
    "    Parameters to log:\n",
    "    - ZONEID: int\n",
    "    - Model: string\n",
    "    - train-RMSE: float\n",
    "    - test-RMSE: float\n",
    "    - NaN removed: bool\n",
    "    - Zero removed: bool\n",
    "    - statistics: \n",
    "        - mean: int\n",
    "    - hyperparameter: dict\n",
    "    - model_parameters: dict\n",
    "    '''\n",
    "\n",
    "    params = {}\n",
    "    params['Missing Value Handling'] = { \n",
    "        \"nan_removed\": nan_removed, \n",
    "        \"zero_removed\": zero_removed\n",
    "    }\n",
    "    if model_parameters:\n",
    "        params['model parameters'] = model_parameters\n",
    "    if hyperparameter:\n",
    "        params['hyperparameter'] = hyperparameter\n",
    "            \n",
    "    print(params)\n",
    "    mlflow.start_run()\n",
    "    run = mlflow.active_run()\n",
    "    print(\"Active run_id: {}\".format(run.info.run_id))\n",
    "\n",
    "    if ZONEID:\n",
    "        mlflow.set_tag(\"ZONEID\", ZONEID)\n",
    "    if Model:\n",
    "        mlflow.set_tag(\"Model\", Model)\n",
    "    if features:\n",
    "        mlflow.log_metric(\"features\", features)\n",
    "    if train_RMSE:\n",
    "        mlflow.log_metric(\"train-RMSE\", train_RMSE)\n",
    "    if test_RMSE:\n",
    "        mlflow.log_metric(\"test-RMSE\", test_RMSE)\n",
    "    if mean:\n",
    "        mlflow.set_tag(\"mean\", mean)\n",
    "    if params:\n",
    "        mlflow.log_params(params)\n",
    "    if info:\n",
    "        mlflow.set_tag(\"info\", info)\n",
    "\n",
    "    mlflow.end_run()\n",
    "\n",
    "\n",
    "if __name__ == \"__main__\":\n",
    "    log_to_mlflow(ZONEID=1, Model='mlfflow_test', \n",
    "            nan_removed=True, model_parameters={'intercept':0.3, 'slope':3, 'theta':3}, \n",
    "            hyperparameter={'alpha':0.001, 'C':10, 'alpha':0.001, 'C':10})\n",
    "\n",
    "\n"
   ],
   "outputs": [
    {
     "output_type": "stream",
     "name": "stdout",
     "text": [
      "{'Missing Value Handling': {'nan_removed': True, 'zero_removed': False}, 'model parameters': {'intercept': 0.3, 'slope': 3, 'theta': 3}, 'hyperparameter': {'alpha': 0.001, 'C': 10}}\n",
      "Active run_id: 8905c32cbbf34101958642995ad187df\n"
     ]
    }
   ],
   "metadata": {}
  },
  {
   "cell_type": "code",
   "execution_count": null,
   "source": [],
   "outputs": [],
   "metadata": {}
  }
 ],
 "metadata": {
  "orig_nbformat": 4,
  "language_info": {
   "name": "python",
   "version": "3.9.4",
   "mimetype": "text/x-python",
   "codemirror_mode": {
    "name": "ipython",
    "version": 3
   },
   "pygments_lexer": "ipython3",
   "nbconvert_exporter": "python",
   "file_extension": ".py"
  },
  "kernelspec": {
   "name": "python3",
   "display_name": "Python 3.9.4 64-bit ('.venv': venv)"
  },
  "interpreter": {
   "hash": "6bf04853d3fd90e38dceeec9809cf8d05177fbec35bd657075794b65848902e2"
  }
 },
 "nbformat": 4,
 "nbformat_minor": 2
}